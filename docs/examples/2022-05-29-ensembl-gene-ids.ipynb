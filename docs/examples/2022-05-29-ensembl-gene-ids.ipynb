{
 "cells": [
  {
   "cell_type": "markdown",
   "metadata": {},
   "source": [
    "# `ensembl_gene_id` to `hgnc_id` mapping\n",
    "\n",
    "This mapping can be obtained via:\n",
    "1. hgnc\n",
    "2. ensembl\n",
    "\n",
    "We should always use the reference table from hgnc website when converting hgnc_id to other ids, as it's carefully curated to ensure unique mapping.\n",
    "\n",
    "If you access the id mapping through ensembl, in a lot of cases, multiple ensembl ids map to the same hgnc_id.\n",
    "\n",
    "However, the REST API provided by HGNC is not working, despite the database being up to date"
   ]
  },
  {
   "cell_type": "code",
   "execution_count": 1,
   "metadata": {},
   "outputs": [],
   "source": [
    "import bionty as bt"
   ]
  },
  {
   "cell_type": "code",
   "execution_count": 2,
   "metadata": {},
   "outputs": [],
   "source": [
    "gn = bt.Gene(species=\"human\")"
   ]
  },
  {
   "cell_type": "code",
   "execution_count": null,
   "metadata": {},
   "outputs": [],
   "source": [
    "# table from ensembl\n",
    "\n",
    "ens = gn.reference"
   ]
  },
  {
   "cell_type": "code",
   "execution_count": 13,
   "metadata": {},
   "outputs": [],
   "source": [
    "# table from HGNC\n",
    "\n",
    "hgnc = gn.hgnc()"
   ]
  },
  {
   "cell_type": "code",
   "execution_count": null,
   "metadata": {},
   "outputs": [],
   "source": [
    "diff_set = set(ens[\"ensembl_gene_id\"].values).difference(df.ensembl_gene_id)\n",
    "\n",
    "ref_diff = ens[ens[\"ensembl_gene_id\"].isin(diff_set)]"
   ]
  },
  {
   "cell_type": "markdown",
   "metadata": {},
   "source": [
    "Here you already see both two ensembl ids (index 40 and 42) map to HGNC:6338"
   ]
  },
  {
   "cell_type": "code",
   "execution_count": null,
   "metadata": {},
   "outputs": [
    {
     "data": {
      "text/html": [
       "<div>\n",
       "<style scoped>\n",
       "    .dataframe tbody tr th:only-of-type {\n",
       "        vertical-align: middle;\n",
       "    }\n",
       "\n",
       "    .dataframe tbody tr th {\n",
       "        vertical-align: top;\n",
       "    }\n",
       "\n",
       "    .dataframe thead th {\n",
       "        text-align: right;\n",
       "    }\n",
       "</style>\n",
       "<table border=\"1\" class=\"dataframe\">\n",
       "  <thead>\n",
       "    <tr style=\"text-align: right;\">\n",
       "      <th></th>\n",
       "      <th>ensembl_gene_id</th>\n",
       "      <th>entrezgene_id</th>\n",
       "      <th>hgnc_id</th>\n",
       "      <th>hgnc_symbol</th>\n",
       "    </tr>\n",
       "  </thead>\n",
       "  <tbody>\n",
       "    <tr>\n",
       "      <th>37</th>\n",
       "      <td>ENSG00000278704</td>\n",
       "      <td>NaN</td>\n",
       "      <td>NaN</td>\n",
       "      <td>NaN</td>\n",
       "    </tr>\n",
       "    <tr>\n",
       "      <th>38</th>\n",
       "      <td>ENSG00000262826</td>\n",
       "      <td>65123</td>\n",
       "      <td>HGNC:26153</td>\n",
       "      <td>INTS3</td>\n",
       "    </tr>\n",
       "    <tr>\n",
       "      <th>39</th>\n",
       "      <td>ENSG00000275151</td>\n",
       "      <td>NaN</td>\n",
       "      <td>NaN</td>\n",
       "      <td>NaN</td>\n",
       "    </tr>\n",
       "    <tr>\n",
       "      <th>40</th>\n",
       "      <td>ENSG00000275717</td>\n",
       "      <td>3811</td>\n",
       "      <td>HGNC:6338</td>\n",
       "      <td>KIR3DL1</td>\n",
       "    </tr>\n",
       "    <tr>\n",
       "      <th>41</th>\n",
       "      <td>ENSG00000274714</td>\n",
       "      <td>3809</td>\n",
       "      <td>HGNC:6336</td>\n",
       "      <td>KIR2DS4</td>\n",
       "    </tr>\n",
       "    <tr>\n",
       "      <th>42</th>\n",
       "      <td>ENSG00000276379</td>\n",
       "      <td>3811</td>\n",
       "      <td>HGNC:6338</td>\n",
       "      <td>KIR3DL1</td>\n",
       "    </tr>\n",
       "    <tr>\n",
       "      <th>43</th>\n",
       "      <td>ENSG00000280538</td>\n",
       "      <td>NaN</td>\n",
       "      <td>NaN</td>\n",
       "      <td>NaN</td>\n",
       "    </tr>\n",
       "    <tr>\n",
       "      <th>44</th>\n",
       "      <td>ENSG00000274324</td>\n",
       "      <td>3809</td>\n",
       "      <td>HGNC:6336</td>\n",
       "      <td>KIR2DS4</td>\n",
       "    </tr>\n",
       "    <tr>\n",
       "      <th>45</th>\n",
       "      <td>ENSG00000271254</td>\n",
       "      <td>102724250</td>\n",
       "      <td>NaN</td>\n",
       "      <td>NaN</td>\n",
       "    </tr>\n",
       "    <tr>\n",
       "      <th>46</th>\n",
       "      <td>ENSG00000275047</td>\n",
       "      <td>3810</td>\n",
       "      <td>HGNC:6337</td>\n",
       "      <td>KIR2DS5</td>\n",
       "    </tr>\n",
       "  </tbody>\n",
       "</table>\n",
       "</div>"
      ],
      "text/plain": [
       "    ensembl_gene_id entrezgene_id     hgnc_id hgnc_symbol\n",
       "37  ENSG00000278704           NaN         NaN         NaN\n",
       "38  ENSG00000262826         65123  HGNC:26153       INTS3\n",
       "39  ENSG00000275151           NaN         NaN         NaN\n",
       "40  ENSG00000275717          3811   HGNC:6338     KIR3DL1\n",
       "41  ENSG00000274714          3809   HGNC:6336     KIR2DS4\n",
       "42  ENSG00000276379          3811   HGNC:6338     KIR3DL1\n",
       "43  ENSG00000280538           NaN         NaN         NaN\n",
       "44  ENSG00000274324          3809   HGNC:6336     KIR2DS4\n",
       "45  ENSG00000271254     102724250         NaN         NaN\n",
       "46  ENSG00000275047          3810   HGNC:6337     KIR2DS5"
      ]
     },
     "metadata": {},
     "output_type": "display_data"
    }
   ],
   "source": [
    "ref_diff.head(10)"
   ]
  },
  {
   "cell_type": "markdown",
   "metadata": {},
   "source": [
    "If you search for the hgnc_id HGNC:6338 in hgnc, you got another ensembl id ENSG00000167633"
   ]
  },
  {
   "cell_type": "code",
   "execution_count": null,
   "metadata": {},
   "outputs": [
    {
     "data": {
      "text/plain": [
       "13835    ENSG00000167633\n",
       "Name: ensembl_gene_id, dtype: object"
      ]
     },
     "metadata": {},
     "output_type": "display_data"
    }
   ],
   "source": [
    "hgnc[hgnc.hgnc_id == \"HGNC:6338\"][\"ensembl_gene_id\"]"
   ]
  },
  {
   "cell_type": "markdown",
   "metadata": {},
   "source": [
    "Check whether ENSG00000167633 is mapped to HGNC:6338 in ensembl, yes at least it is"
   ]
  },
  {
   "cell_type": "code",
   "execution_count": null,
   "metadata": {},
   "outputs": [
    {
     "data": {
      "text/html": [
       "<div>\n",
       "<style scoped>\n",
       "    .dataframe tbody tr th:only-of-type {\n",
       "        vertical-align: middle;\n",
       "    }\n",
       "\n",
       "    .dataframe tbody tr th {\n",
       "        vertical-align: top;\n",
       "    }\n",
       "\n",
       "    .dataframe thead th {\n",
       "        text-align: right;\n",
       "    }\n",
       "</style>\n",
       "<table border=\"1\" class=\"dataframe\">\n",
       "  <thead>\n",
       "    <tr style=\"text-align: right;\">\n",
       "      <th></th>\n",
       "      <th>ensembl_gene_id</th>\n",
       "      <th>entrezgene_id</th>\n",
       "      <th>hgnc_id</th>\n",
       "      <th>hgnc_symbol</th>\n",
       "    </tr>\n",
       "  </thead>\n",
       "  <tbody>\n",
       "    <tr>\n",
       "      <th>62030</th>\n",
       "      <td>ENSG00000167633</td>\n",
       "      <td>3811</td>\n",
       "      <td>HGNC:6338</td>\n",
       "      <td>KIR3DL1</td>\n",
       "    </tr>\n",
       "  </tbody>\n",
       "</table>\n",
       "</div>"
      ],
      "text/plain": [
       "       ensembl_gene_id entrezgene_id    hgnc_id hgnc_symbol\n",
       "62030  ENSG00000167633          3811  HGNC:6338     KIR3DL1"
      ]
     },
     "metadata": {},
     "output_type": "display_data"
    }
   ],
   "source": [
    "ens[ens.ensembl_gene_id == \"ENSG00000167633\"]"
   ]
  },
  {
   "cell_type": "markdown",
   "metadata": {},
   "source": [
    "## HGNC REST server is not accessible"
   ]
  },
  {
   "cell_type": "code",
   "execution_count": 5,
   "metadata": {},
   "outputs": [],
   "source": [
    "from bionty._rest import fetch_endpoint"
   ]
  },
  {
   "cell_type": "code",
   "execution_count": 6,
   "metadata": {},
   "outputs": [
    {
     "ename": "HTTPError",
     "evalue": "500 Server Error: Internal Server Error for url: http://rest.genenames.org/search/ensembl_gene_id/ENSG00000157764",
     "output_type": "error",
     "traceback": [
      "\u001b[0;31m---------------------------------------------------------------------------\u001b[0m",
      "\u001b[0;31mHTTPError\u001b[0m                                 Traceback (most recent call last)",
      "\u001b[1;32m/Users/sunnysun/Documents/repos/bionty/docs/tasks/2022-05-29-ensembl-gene-ids.ipynb Cell 14'\u001b[0m in \u001b[0;36m<cell line: 1>\u001b[0;34m()\u001b[0m\n\u001b[0;32m----> <a href='vscode-notebook-cell:/Users/sunnysun/Documents/repos/bionty/docs/tasks/2022-05-29-ensembl-gene-ids.ipynb#ch0000013?line=0'>1</a>\u001b[0m fetch_endpoint(\u001b[39m\"\u001b[39;49m\u001b[39mhttp://rest.genenames.org/\u001b[39;49m\u001b[39m\"\u001b[39;49m, \u001b[39m\"\u001b[39;49m\u001b[39msearch/ensembl_gene_id/ENSG00000157764\u001b[39;49m\u001b[39m\"\u001b[39;49m, \u001b[39m\"\u001b[39;49m\u001b[39mtext/xml\u001b[39;49m\u001b[39m\"\u001b[39;49m)\n",
      "File \u001b[0;32m/opt/miniconda3/envs/py39/lib/python3.9/site-packages/bionty/_rest.py:15\u001b[0m, in \u001b[0;36mfetch_endpoint\u001b[0;34m(server, request, content_type)\u001b[0m\n\u001b[1;32m     <a href='file:///opt/miniconda3/envs/py39/lib/python3.9/site-packages/bionty/_rest.py?line=11'>12</a>\u001b[0m r \u001b[39m=\u001b[39m requests\u001b[39m.\u001b[39mget(server \u001b[39m+\u001b[39m request, headers\u001b[39m=\u001b[39m{\u001b[39m\"\u001b[39m\u001b[39mAccept\u001b[39m\u001b[39m\"\u001b[39m: content_type})\n\u001b[1;32m     <a href='file:///opt/miniconda3/envs/py39/lib/python3.9/site-packages/bionty/_rest.py?line=13'>14</a>\u001b[0m \u001b[39mif\u001b[39;00m \u001b[39mnot\u001b[39;00m r\u001b[39m.\u001b[39mok:\n\u001b[0;32m---> <a href='file:///opt/miniconda3/envs/py39/lib/python3.9/site-packages/bionty/_rest.py?line=14'>15</a>\u001b[0m     r\u001b[39m.\u001b[39;49mraise_for_status()\n\u001b[1;32m     <a href='file:///opt/miniconda3/envs/py39/lib/python3.9/site-packages/bionty/_rest.py?line=15'>16</a>\u001b[0m     sys\u001b[39m.\u001b[39mexit()\n\u001b[1;32m     <a href='file:///opt/miniconda3/envs/py39/lib/python3.9/site-packages/bionty/_rest.py?line=17'>18</a>\u001b[0m \u001b[39mif\u001b[39;00m content_type \u001b[39m==\u001b[39m \u001b[39m\"\u001b[39m\u001b[39mapplication/json\u001b[39m\u001b[39m\"\u001b[39m:\n",
      "File \u001b[0;32m/opt/miniconda3/envs/py39/lib/python3.9/site-packages/requests/models.py:960\u001b[0m, in \u001b[0;36mResponse.raise_for_status\u001b[0;34m(self)\u001b[0m\n\u001b[1;32m    <a href='file:///opt/miniconda3/envs/py39/lib/python3.9/site-packages/requests/models.py?line=956'>957</a>\u001b[0m     http_error_msg \u001b[39m=\u001b[39m \u001b[39mu\u001b[39m\u001b[39m'\u001b[39m\u001b[39m%s\u001b[39;00m\u001b[39m Server Error: \u001b[39m\u001b[39m%s\u001b[39;00m\u001b[39m for url: \u001b[39m\u001b[39m%s\u001b[39;00m\u001b[39m'\u001b[39m \u001b[39m%\u001b[39m (\u001b[39mself\u001b[39m\u001b[39m.\u001b[39mstatus_code, reason, \u001b[39mself\u001b[39m\u001b[39m.\u001b[39murl)\n\u001b[1;32m    <a href='file:///opt/miniconda3/envs/py39/lib/python3.9/site-packages/requests/models.py?line=958'>959</a>\u001b[0m \u001b[39mif\u001b[39;00m http_error_msg:\n\u001b[0;32m--> <a href='file:///opt/miniconda3/envs/py39/lib/python3.9/site-packages/requests/models.py?line=959'>960</a>\u001b[0m     \u001b[39mraise\u001b[39;00m HTTPError(http_error_msg, response\u001b[39m=\u001b[39m\u001b[39mself\u001b[39m)\n",
      "\u001b[0;31mHTTPError\u001b[0m: 500 Server Error: Internal Server Error for url: http://rest.genenames.org/search/ensembl_gene_id/ENSG00000157764"
     ]
    }
   ],
   "source": [
    "fetch_endpoint(\n",
    "    \"http://rest.genenames.org/\", \"search/ensembl_gene_id/ENSG00000157764\", \"text/xml\"\n",
    ")"
   ]
  },
  {
   "cell_type": "code",
   "execution_count": null,
   "metadata": {},
   "outputs": [],
   "source": []
  }
 ],
 "metadata": {
  "interpreter": {
   "hash": "ae1fefc8646a06dd2e75004cd934adda7c5727b046986a772e3b44b0ffba9754"
  },
  "kernelspec": {
   "display_name": "Python 3.9.7 ('py39')",
   "language": "python",
   "name": "python3"
  },
  "language_info": {
   "codemirror_mode": {
    "name": "ipython",
    "version": 3
   },
   "file_extension": ".py",
   "mimetype": "text/x-python",
   "name": "python",
   "nbconvert_exporter": "python",
   "pygments_lexer": "ipython3",
   "version": "3.9.7"
  },
  "orig_nbformat": 4
 },
 "nbformat": 4,
 "nbformat_minor": 2
}
