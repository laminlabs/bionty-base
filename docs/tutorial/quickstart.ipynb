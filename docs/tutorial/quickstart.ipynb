{
 "cells": [
  {
   "cell_type": "markdown",
   "metadata": {},
   "source": [
    "# Quickstart"
   ]
  },
  {
   "cell_type": "markdown",
   "metadata": {},
   "source": [
    "`Bionty` focuses on improving a computational biologist's experience when it comes to bio entities. Our goal is to build something that's interpretable, intuitive and easy to use. \n",
    "\n",
    "In this notebook, we'll introduce the API that defines entities species, genes, proteins and cell types.\n",
    "\n",
    "It shows how to \n",
    "\n",
    "- query different semantic representations based on underlying ontologies\n",
    "- standardize columns in `DataFrame` objects"
   ]
  },
  {
   "cell_type": "code",
   "execution_count": null,
   "metadata": {},
   "outputs": [],
   "source": [
    "%load_ext autoreload\n",
    "%autoreload 2"
   ]
  },
  {
   "cell_type": "code",
   "execution_count": null,
   "metadata": {},
   "outputs": [],
   "source": [
    "import bionty as bt\n",
    "import pandas as pd"
   ]
  },
  {
   "cell_type": "markdown",
   "metadata": {},
   "source": [
    "## Species\n",
    "\n",
    "Let's start with exploring the `Species`! You can initiate the `Species` class by providing a common name of species.\n",
    "\n",
    "Don't worry if you are not sure what common name to use, just go with default for now."
   ]
  },
  {
   "cell_type": "code",
   "execution_count": null,
   "metadata": {},
   "outputs": [],
   "source": [
    "species = bt.Species(common_name=\"human\")"
   ]
  },
  {
   "cell_type": "markdown",
   "metadata": {},
   "source": [
    "Now you have access to a couple of attributes, let's see what they are.\n",
    "\n",
    "- `.fields`: this gives you a list of column names that annotate each entry, in this case each species\n",
    "- `.std_id`: this prints the field which is used as the standardized id. Note that Bionty focuses on interpretability, so we use the unique `common_name` of [Ensembl Species](https://asia.ensembl.org/info/about/species.html).\n",
    "- `.std_name`: this is the value of `std_id` in the current instance. (e.g. `human`, `mouse`, `dog` ...)"
   ]
  },
  {
   "cell_type": "code",
   "execution_count": null,
   "metadata": {},
   "outputs": [],
   "source": [
    "print(\n",
    "    f\"`.fields:` {species.fields}\\n`.std_id`: {species.std_id}\\n`.std_name`:\"\n",
    "    f\" {species.std_name}\"\n",
    ")"
   ]
  },
  {
   "cell_type": "markdown",
   "metadata": {},
   "source": [
    "For entities that require name conversions, we implement a `.search` function to allow converting among different reference ids."
   ]
  },
  {
   "cell_type": "code",
   "execution_count": null,
   "metadata": {},
   "outputs": [],
   "source": [
    "print(\n",
    "    f'`.scientific_name`: {species.search(\"scientific_name\")}\\n`.taxon_id`:'\n",
    "    f' {species.search(\"taxon_id\")}'\n",
    ")"
   ]
  },
  {
   "cell_type": "markdown",
   "metadata": {},
   "source": [
    "A key feature of `Bionty` is that, for each entity class, we implement a static `.dataclass` via `pydantic` models which allows users to access each entry via tab completion. This allows you quickly search for a entry of interest and retrieve it's associated attributes."
   ]
  },
  {
   "cell_type": "code",
   "execution_count": null,
   "metadata": {},
   "outputs": [],
   "source": [
    "dc = species.dataclass"
   ]
  },
  {
   "cell_type": "code",
   "execution_count": null,
   "metadata": {},
   "outputs": [],
   "source": [
    "dc.cat"
   ]
  },
  {
   "cell_type": "code",
   "execution_count": null,
   "metadata": {},
   "outputs": [],
   "source": [
    "dc.cat.scientific_name"
   ]
  },
  {
   "cell_type": "markdown",
   "metadata": {},
   "source": [
    "## Gene\n",
    "\n",
    "Next let's take a look at genes, which essentially follows the same design choices as `Species`.\n",
    "\n",
    "The main differences are:\n",
    "1. The `.dataclass` of `Gene` is species specific, therefore you will only retrieve gene entries of the specified species.\n",
    "2. We implement a `.standardize` function which allows to standardizing gene names inplace in a dataframe."
   ]
  },
  {
   "cell_type": "code",
   "execution_count": null,
   "metadata": {},
   "outputs": [],
   "source": [
    "gene = bt.Gene(species=\"human\")"
   ]
  },
  {
   "cell_type": "code",
   "execution_count": null,
   "metadata": {},
   "outputs": [],
   "source": [
    "dc = gene.dataclass"
   ]
  },
  {
   "cell_type": "code",
   "execution_count": null,
   "metadata": {},
   "outputs": [],
   "source": [
    "dc.PDCD1"
   ]
  },
  {
   "cell_type": "code",
   "execution_count": null,
   "metadata": {},
   "outputs": [],
   "source": [
    "dc.PDCD1.ensembl_gene_id"
   ]
  },
  {
   "cell_type": "markdown",
   "metadata": {},
   "source": [
    "Same as species, you can check out gene related fields"
   ]
  },
  {
   "cell_type": "code",
   "execution_count": null,
   "metadata": {},
   "outputs": [],
   "source": [
    "print(f\"`.fields:` {gene.fields}\\n`.std_id`: {gene.std_id}\")"
   ]
  },
  {
   "cell_type": "markdown",
   "metadata": {},
   "source": [
    "Now Let's check out a few examples of gene name conversions.\n",
    "\n",
    "The `.search` function by default converts to the standardized ids, you can also specify `.id_type_from` and `id_type_to` to control the behavior.\n"
   ]
  },
  {
   "cell_type": "code",
   "execution_count": null,
   "metadata": {},
   "outputs": [],
   "source": [
    "hgnc_ids = [\"HGNC:1100\", \"HGNC:1101\"]\n",
    "ensembl_ids = [\"ENSG00000012048\", \"ENSG00000139618\"]"
   ]
  },
  {
   "cell_type": "code",
   "execution_count": null,
   "metadata": {},
   "outputs": [],
   "source": [
    "# default is to convert into .std_id\n",
    "\n",
    "gene.search(ensembl_ids, id_type_from=\"ensembl.gene_id\")"
   ]
  },
  {
   "cell_type": "code",
   "execution_count": null,
   "metadata": {},
   "outputs": [],
   "source": [
    "# OR you can convert between any two of the attributes\n",
    "\n",
    "gene.search([\"BRCA1\", \"BRCA2\"], id_type_from=\"hgnc_symbol\", id_type_to=\"entrez.gene_id\")"
   ]
  },
  {
   "cell_type": "markdown",
   "metadata": {},
   "source": [
    "Now let's try to provide a dataframe.\n",
    "\n",
    "`.standardize` produces:\n",
    "- The outcome of standardization will be directly written as the index.\n",
    "- A `std_id` column containing the standardized ids, if no standardized id is found for a gene, it will be NaN.\n",
    "- A `index_orig` column containing the original index provided before standardization."
   ]
  },
  {
   "cell_type": "code",
   "execution_count": null,
   "metadata": {},
   "outputs": [],
   "source": [
    "# default is to standardizing gene symbols\n",
    "\n",
    "df = pd.DataFrame(index=[\"RNF53\", \"BRCA2\", \"FakeGene\"])\n",
    "gene.standardize(df)\n",
    "\n",
    "df"
   ]
  },
  {
   "cell_type": "markdown",
   "metadata": {},
   "source": [
    "Of course you can also just provide a list of genes without a dataframe!"
   ]
  },
  {
   "cell_type": "code",
   "execution_count": null,
   "metadata": {},
   "outputs": [],
   "source": [
    "gene.standardize([\"RNF53\", \"BRCA2\", \"FakeGene\"])"
   ]
  },
  {
   "cell_type": "markdown",
   "metadata": {},
   "source": [
    "Let's now try standardizing some ensembl ids"
   ]
  },
  {
   "cell_type": "code",
   "execution_count": null,
   "metadata": {},
   "outputs": [],
   "source": [
    "gene.standardize([\"ENSG00000012048\", \"ENSG00000139618\"], id_type=\"ensembl.gene_id\")"
   ]
  },
  {
   "cell_type": "markdown",
   "metadata": {},
   "source": [
    "## Protein\n",
    "\n",
    "Protein is very similar to Gene."
   ]
  },
  {
   "cell_type": "code",
   "execution_count": null,
   "metadata": {},
   "outputs": [],
   "source": [
    "protein = bt.Protein(species=\"human\")"
   ]
  },
  {
   "cell_type": "code",
   "execution_count": null,
   "metadata": {},
   "outputs": [],
   "source": [
    "print(f\"`.fields:` {protein.fields}\\n`.std_id`: {protein.std_id}\")"
   ]
  },
  {
   "cell_type": "code",
   "execution_count": null,
   "metadata": {},
   "outputs": [],
   "source": [
    "uniprot_ids = [\"P40925\", \"P40926\", \"O43175\", \"Q9UM73\"]\n",
    "\n",
    "protein.search(uniprot_ids, id_type_from=\"UNIPROT_ID\", id_type_to=\"CHEMBL_ID\")"
   ]
  },
  {
   "cell_type": "markdown",
   "metadata": {},
   "source": [
    "## Cell Type\n",
    "\n",
    "(More features to come!)\n",
    "\n",
    "Here we provide an interface to the Cell Ontology via an ontology manager Owlready2.\n",
    "\n",
    "Other ontology based entities such as `Disease` and `Tissue` are both implemented this way.\n",
    "\n",
    "- `.onto` is the ontology instance of Owlready2, which allows you to load, query, modify, save ontologies. See more [here](https://owlready2.readthedocs.io/en/latest/intro.html).\n",
    "- `.onto_dict` is the dictionary of {'name': 'label'}.\n",
    "- `.classes` is the access point to each ontology object.\n",
    "- `.search` allows you to look for ontologies based on keywords.\n",
    "- `.standardize` checks the correctness of ontology ids.\n",
    "- `.dataclass` is a static dataclass for accessing entities with tab completion.\n"
   ]
  },
  {
   "cell_type": "code",
   "execution_count": null,
   "metadata": {},
   "outputs": [],
   "source": [
    "ct = bt.CellType()"
   ]
  },
  {
   "cell_type": "code",
   "execution_count": null,
   "metadata": {},
   "outputs": [],
   "source": [
    "ct.onto"
   ]
  },
  {
   "cell_type": "code",
   "execution_count": null,
   "metadata": {},
   "outputs": [],
   "source": [
    "ct.onto_dict[\"CL_0002000\"]"
   ]
  },
  {
   "cell_type": "markdown",
   "metadata": {},
   "source": [
    "A few info available in an object "
   ]
  },
  {
   "cell_type": "code",
   "execution_count": null,
   "metadata": {},
   "outputs": [],
   "source": [
    "obj = ct.classes[\"CL_0002000\"]"
   ]
  },
  {
   "cell_type": "code",
   "execution_count": null,
   "metadata": {},
   "outputs": [],
   "source": [
    "obj.is_a"
   ]
  },
  {
   "cell_type": "code",
   "execution_count": null,
   "metadata": {},
   "outputs": [],
   "source": [
    "obj.ancestors()"
   ]
  },
  {
   "cell_type": "markdown",
   "metadata": {},
   "source": [
    "Let's try to search for some CL terms"
   ]
  },
  {
   "cell_type": "code",
   "execution_count": null,
   "metadata": {},
   "outputs": [],
   "source": [
    "ct.search([\"T cell\", \"B cell\", \"hepatocyte\"])"
   ]
  },
  {
   "cell_type": "markdown",
   "metadata": {},
   "source": [
    "Standardization currently merely prints out warnings of obsolete or notfound ontologies. "
   ]
  },
  {
   "cell_type": "code",
   "execution_count": null,
   "metadata": {},
   "outputs": [],
   "source": [
    "terms = [\"CL:0000084\", \"CL:0000243\", \"CL:0002000\"]\n",
    "\n",
    "ct.standardize(terms)"
   ]
  },
  {
   "cell_type": "markdown",
   "metadata": {},
   "source": [
    "Similarly, it has a static dataclass for accessing each entity"
   ]
  },
  {
   "cell_type": "code",
   "execution_count": null,
   "metadata": {},
   "outputs": [],
   "source": [
    "dc = ct.dataclass"
   ]
  },
  {
   "cell_type": "code",
   "execution_count": null,
   "metadata": {},
   "outputs": [],
   "source": [
    "dc.CL_0000738"
   ]
  },
  {
   "cell_type": "code",
   "execution_count": null,
   "metadata": {},
   "outputs": [],
   "source": []
  }
 ],
 "metadata": {
  "interpreter": {
   "hash": "ae1fefc8646a06dd2e75004cd934adda7c5727b046986a772e3b44b0ffba9754"
  },
  "kernelspec": {
   "display_name": "Python 3.9.7 ('py39')",
   "language": "python",
   "name": "python3"
  },
  "language_info": {
   "codemirror_mode": {
    "name": "ipython",
    "version": 3
   },
   "file_extension": ".py",
   "mimetype": "text/x-python",
   "name": "python",
   "nbconvert_exporter": "python",
   "pygments_lexer": "ipython3",
   "version": "3.9.13"
  }
 },
 "nbformat": 4,
 "nbformat_minor": 2
}
