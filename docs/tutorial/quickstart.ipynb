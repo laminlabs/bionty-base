{
 "cells": [
  {
   "cell_type": "markdown",
   "metadata": {},
   "source": [
    "# Quickstart"
   ]
  },
  {
   "cell_type": "markdown",
   "metadata": {},
   "source": [
    "We'll walk through Bionty's table model for species, genes, proteins, and cell types.\n",
    "\n",
    "You'll see how to\n",
    "\n",
    "- configure a table\n",
    "- lookup identifiers of an entity\n",
    "- convert between identifiers\n",
    "- validate data against identifiers"
   ]
  },
  {
   "cell_type": "code",
   "execution_count": 1,
   "metadata": {},
   "outputs": [],
   "source": [
    "%load_ext autoreload\n",
    "%autoreload 2"
   ]
  },
  {
   "cell_type": "code",
   "execution_count": 2,
   "metadata": {},
   "outputs": [],
   "source": [
    "import bionty as bt"
   ]
  },
  {
   "cell_type": "markdown",
   "metadata": {
    "tags": []
   },
   "source": [
    "## Species\n"
   ]
  },
  {
   "cell_type": "code",
   "execution_count": 3,
   "metadata": {},
   "outputs": [],
   "source": [
    "species = bt.Species()"
   ]
  },
  {
   "cell_type": "code",
   "execution_count": 4,
   "metadata": {},
   "outputs": [
    {
     "data": {
      "text/html": [
       "<div>\n",
       "<style scoped>\n",
       "    .dataframe tbody tr th:only-of-type {\n",
       "        vertical-align: middle;\n",
       "    }\n",
       "\n",
       "    .dataframe tbody tr th {\n",
       "        vertical-align: top;\n",
       "    }\n",
       "\n",
       "    .dataframe thead th {\n",
       "        text-align: right;\n",
       "    }\n",
       "</style>\n",
       "<table border=\"1\" class=\"dataframe\">\n",
       "  <thead>\n",
       "    <tr style=\"text-align: right;\">\n",
       "      <th></th>\n",
       "      <th>scientific_name</th>\n",
       "      <th>taxon_id</th>\n",
       "      <th>assembly</th>\n",
       "      <th>accession</th>\n",
       "      <th>release</th>\n",
       "      <th>short_name</th>\n",
       "    </tr>\n",
       "    <tr>\n",
       "      <th>common_name</th>\n",
       "      <th></th>\n",
       "      <th></th>\n",
       "      <th></th>\n",
       "      <th></th>\n",
       "      <th></th>\n",
       "      <th></th>\n",
       "    </tr>\n",
       "  </thead>\n",
       "  <tbody>\n",
       "    <tr>\n",
       "      <th>abingdon_island_giant_tortoise</th>\n",
       "      <td>chelonoidis_abingdonii</td>\n",
       "      <td>106734</td>\n",
       "      <td>ASM359739v1</td>\n",
       "      <td>GCA_003597395.1</td>\n",
       "      <td>106</td>\n",
       "      <td>cabingdonii</td>\n",
       "    </tr>\n",
       "    <tr>\n",
       "      <th>african_green_monkey</th>\n",
       "      <td>chlorocebus_sabaeus</td>\n",
       "      <td>60711</td>\n",
       "      <td>ChlSab1.1</td>\n",
       "      <td>GCA_000409795.2</td>\n",
       "      <td>106</td>\n",
       "      <td>csabaeus</td>\n",
       "    </tr>\n",
       "    <tr>\n",
       "      <th>african_ostrich</th>\n",
       "      <td>struthio_camelus_australis</td>\n",
       "      <td>441894</td>\n",
       "      <td>ASM69896v1</td>\n",
       "      <td>GCA_000698965.1</td>\n",
       "      <td>106</td>\n",
       "      <td>saustralis</td>\n",
       "    </tr>\n",
       "    <tr>\n",
       "      <th>african_savanna_elephant</th>\n",
       "      <td>loxodonta_africana</td>\n",
       "      <td>9785</td>\n",
       "      <td>loxAfr3</td>\n",
       "      <td>GCA_000001905.1</td>\n",
       "      <td>106</td>\n",
       "      <td>lafricana</td>\n",
       "    </tr>\n",
       "    <tr>\n",
       "      <th>agassiz's_desert_tortoise</th>\n",
       "      <td>gopherus_agassizii</td>\n",
       "      <td>38772</td>\n",
       "      <td>ASM289641v1</td>\n",
       "      <td>GCA_002896415.1</td>\n",
       "      <td>106</td>\n",
       "      <td>gagassizii</td>\n",
       "    </tr>\n",
       "  </tbody>\n",
       "</table>\n",
       "</div>"
      ],
      "text/plain": [
       "                                           scientific_name taxon_id  \\\n",
       "common_name                                                           \n",
       "abingdon_island_giant_tortoise      chelonoidis_abingdonii   106734   \n",
       "african_green_monkey                   chlorocebus_sabaeus    60711   \n",
       "african_ostrich                 struthio_camelus_australis   441894   \n",
       "african_savanna_elephant                loxodonta_africana     9785   \n",
       "agassiz's_desert_tortoise               gopherus_agassizii    38772   \n",
       "\n",
       "                                   assembly        accession release  \\\n",
       "common_name                                                            \n",
       "abingdon_island_giant_tortoise  ASM359739v1  GCA_003597395.1     106   \n",
       "african_green_monkey              ChlSab1.1  GCA_000409795.2     106   \n",
       "african_ostrich                  ASM69896v1  GCA_000698965.1     106   \n",
       "african_savanna_elephant            loxAfr3  GCA_000001905.1     106   \n",
       "agassiz's_desert_tortoise       ASM289641v1  GCA_002896415.1     106   \n",
       "\n",
       "                                 short_name  \n",
       "common_name                                  \n",
       "abingdon_island_giant_tortoise  cabingdonii  \n",
       "african_green_monkey               csabaeus  \n",
       "african_ostrich                  saustralis  \n",
       "african_savanna_elephant          lafricana  \n",
       "agassiz's_desert_tortoise        gagassizii  "
      ]
     },
     "execution_count": 4,
     "metadata": {},
     "output_type": "execute_result"
    }
   ],
   "source": [
    "species.df.head()"
   ]
  },
  {
   "cell_type": "code",
   "execution_count": 5,
   "metadata": {},
   "outputs": [
    {
     "data": {
      "text/plain": [
       "scientific_name    sus_scrofa, sus_scrofa_usmarc, sus_scrofa_bame...\n",
       "taxon_id           9823, 9823, 9823, 9823, 9823, 9823, 9823, 9823...\n",
       "assembly           Sscrofa11.1, USMARCv1.0, Bamei_pig_v1, Rongcha...\n",
       "accession          GCA_000003025.6, GCA_002844635.1, GCA_00170023...\n",
       "release            106, 106, 106, 106, 106, 106, 106, 106, 106, 1...\n",
       "short_name         sscrofa, susmarc, sbamei, srongchang, slargewh...\n",
       "Name: pig, dtype: object"
      ]
     },
     "execution_count": 5,
     "metadata": {},
     "output_type": "execute_result"
    }
   ],
   "source": [
    "species.df.loc[\"pig\"]"
   ]
  },
  {
   "cell_type": "markdown",
   "metadata": {},
   "source": [
    "We can auto-complete on the index by transposing the table."
   ]
  },
  {
   "cell_type": "markdown",
   "metadata": {},
   "source": [
    "## Gene"
   ]
  },
  {
   "cell_type": "markdown",
   "metadata": {},
   "source": [
    "Next let's take a look at genes, which essentially follows the same design choices as `Species`.\n",
    "\n",
    "The main differences are:\n",
    "1. The `.dataclass` of `Gene` is species specific, therefore you will only retrieve gene entries of the specified species.\n",
    "2. We implement a `.standardize` function which allows to standardizing gene names inplace in a dataframe."
   ]
  },
  {
   "cell_type": "code",
   "execution_count": null,
   "metadata": {},
   "outputs": [],
   "source": [
    "gene = bt.Gene(species=\"human\")"
   ]
  },
  {
   "cell_type": "code",
   "execution_count": null,
   "metadata": {},
   "outputs": [],
   "source": [
    "dc = gene.dataclass"
   ]
  },
  {
   "cell_type": "code",
   "execution_count": null,
   "metadata": {},
   "outputs": [],
   "source": [
    "dc.PDCD1"
   ]
  },
  {
   "cell_type": "code",
   "execution_count": null,
   "metadata": {},
   "outputs": [],
   "source": [
    "dc.PDCD1.ensembl_gene_id"
   ]
  },
  {
   "cell_type": "markdown",
   "metadata": {},
   "source": [
    "Same as species, you can check out gene related fields"
   ]
  },
  {
   "cell_type": "code",
   "execution_count": null,
   "metadata": {},
   "outputs": [],
   "source": [
    "gene.fields"
   ]
  },
  {
   "cell_type": "code",
   "execution_count": null,
   "metadata": {},
   "outputs": [],
   "source": [
    "gene.std_id"
   ]
  },
  {
   "cell_type": "markdown",
   "metadata": {},
   "source": [
    "Now Let's check out a few examples of gene name conversions.\n",
    "\n",
    "The `.search` function by default converts to the standardized ids, you can also specify `.id_type_from` and `id_type_to` to control the behavior.\n"
   ]
  },
  {
   "cell_type": "code",
   "execution_count": null,
   "metadata": {},
   "outputs": [],
   "source": [
    "hgnc_ids = [\"HGNC:1100\", \"HGNC:1101\"]\n",
    "ensembl_ids = [\"ENSG00000012048\", \"ENSG00000139618\"]"
   ]
  },
  {
   "cell_type": "markdown",
   "metadata": {},
   "source": [
    "The default is to convert into `.std_id`."
   ]
  },
  {
   "cell_type": "code",
   "execution_count": null,
   "metadata": {},
   "outputs": [],
   "source": [
    "gene.search(ensembl_ids, id_type_from=\"ensembl.gene_id\")"
   ]
  },
  {
   "cell_type": "markdown",
   "metadata": {},
   "source": [
    "Or you can convert between any two of the attributes."
   ]
  },
  {
   "cell_type": "code",
   "execution_count": null,
   "metadata": {},
   "outputs": [],
   "source": [
    "gene.search([\"BRCA1\", \"BRCA2\"], id_type_from=\"hgnc_symbol\", id_type_to=\"entrez.gene_id\")"
   ]
  },
  {
   "cell_type": "markdown",
   "metadata": {},
   "source": [
    "Now let's try to provide a dataframe.\n",
    "\n",
    "`.standardize` produces:\n",
    "- The outcome of standardization will be directly written as the index.\n",
    "- A `std_id` column containing the standardized ids, if no standardized id is found for a gene, it will be NaN.\n",
    "- A `index_orig` column containing the original index provided before standardization."
   ]
  },
  {
   "cell_type": "markdown",
   "metadata": {},
   "source": [
    "The default is to standardize gene symbols:"
   ]
  },
  {
   "cell_type": "code",
   "execution_count": null,
   "metadata": {},
   "outputs": [],
   "source": [
    "df = pd.DataFrame(index=[\"RNF53\", \"BRCA2\", \"FakeGene\"])\n",
    "gene.standardize(df)\n",
    "\n",
    "df"
   ]
  },
  {
   "cell_type": "markdown",
   "metadata": {},
   "source": [
    "Of course you can also just provide a list of genes without a dataframe!"
   ]
  },
  {
   "cell_type": "code",
   "execution_count": null,
   "metadata": {},
   "outputs": [],
   "source": [
    "gene.standardize([\"RNF53\", \"BRCA2\", \"FakeGene\"])"
   ]
  },
  {
   "cell_type": "markdown",
   "metadata": {},
   "source": [
    "Let's now try standardizing some ensembl ids"
   ]
  },
  {
   "cell_type": "code",
   "execution_count": null,
   "metadata": {},
   "outputs": [],
   "source": [
    "gene.standardize([\"ENSG00000012048\", \"ENSG00000139618\"], id_type=\"ensembl.gene_id\")"
   ]
  },
  {
   "cell_type": "markdown",
   "metadata": {},
   "source": [
    "## Protein\n",
    "\n",
    "Protein is very similar to Gene."
   ]
  },
  {
   "cell_type": "code",
   "execution_count": null,
   "metadata": {},
   "outputs": [],
   "source": [
    "protein = bt.Protein(species=\"human\")"
   ]
  },
  {
   "cell_type": "code",
   "execution_count": null,
   "metadata": {},
   "outputs": [],
   "source": [
    "protein.fields"
   ]
  },
  {
   "cell_type": "code",
   "execution_count": null,
   "metadata": {},
   "outputs": [],
   "source": [
    "protein.std_id"
   ]
  },
  {
   "cell_type": "code",
   "execution_count": null,
   "metadata": {},
   "outputs": [],
   "source": [
    "uniprot_ids = [\"P40925\", \"P40926\", \"O43175\", \"Q9UM73\"]\n",
    "\n",
    "protein.search(uniprot_ids, id_type_from=\"UNIPROT_ID\", id_type_to=\"CHEMBL_ID\")"
   ]
  },
  {
   "cell_type": "markdown",
   "metadata": {},
   "source": [
    "## Cell Type\n",
    "\n",
    "(More features to come!)\n",
    "\n",
    "Here we provide an interface to the Cell Ontology via an ontology manager Owlready2.\n",
    "\n",
    "Other ontology based entities such as `Disease` and `Tissue` are both implemented this way.\n",
    "\n",
    "- `.onto` is the ontology instance of Owlready2, which allows you to load, query, modify, save ontologies. See more [here](https://owlready2.readthedocs.io/en/latest/intro.html).\n",
    "- `.onto_dict` is the dictionary of {'name': 'label'}.\n",
    "- `.classes` is the access point to each ontology object.\n",
    "- `.search` allows you to look for ontologies based on keywords.\n",
    "- `.standardize` checks the correctness of ontology ids.\n",
    "- `.dataclass` is a static dataclass for accessing entities with tab completion.\n"
   ]
  },
  {
   "cell_type": "code",
   "execution_count": null,
   "metadata": {},
   "outputs": [],
   "source": [
    "ct = bt.CellType(reload=True)"
   ]
  },
  {
   "cell_type": "code",
   "execution_count": null,
   "metadata": {},
   "outputs": [],
   "source": [
    "ct.onto_dict[\"CL_0002000\"]"
   ]
  },
  {
   "cell_type": "markdown",
   "metadata": {},
   "source": [
    "A few info available in an object "
   ]
  },
  {
   "cell_type": "code",
   "execution_count": null,
   "metadata": {},
   "outputs": [],
   "source": [
    "obj = ct.classes[\"CL_0002000\"]"
   ]
  },
  {
   "cell_type": "code",
   "execution_count": null,
   "metadata": {},
   "outputs": [],
   "source": [
    "obj.is_a"
   ]
  },
  {
   "cell_type": "code",
   "execution_count": null,
   "metadata": {},
   "outputs": [],
   "source": [
    "obj.ancestors()"
   ]
  },
  {
   "cell_type": "markdown",
   "metadata": {},
   "source": [
    "Let's try to search for some CL terms"
   ]
  },
  {
   "cell_type": "code",
   "execution_count": null,
   "metadata": {},
   "outputs": [],
   "source": [
    "ct.search([\"T cell\", \"B cell\", \"hepatocyte\"])"
   ]
  },
  {
   "cell_type": "markdown",
   "metadata": {},
   "source": [
    "Standardization currently merely prints out warnings of obsolete or notfound ontologies. "
   ]
  },
  {
   "cell_type": "code",
   "execution_count": null,
   "metadata": {},
   "outputs": [],
   "source": [
    "terms = [\"CL:0000084\", \"CL:0000243\", \"CL:0002000\"]\n",
    "\n",
    "ct.standardize(terms)"
   ]
  },
  {
   "cell_type": "markdown",
   "metadata": {},
   "source": [
    "Similarly, it has a static dataclass for accessing each entity"
   ]
  },
  {
   "cell_type": "code",
   "execution_count": null,
   "metadata": {},
   "outputs": [],
   "source": [
    "dc = ct.dataclass"
   ]
  },
  {
   "cell_type": "code",
   "execution_count": null,
   "metadata": {},
   "outputs": [],
   "source": [
    "dc.CL_0000738"
   ]
  }
 ],
 "metadata": {
  "interpreter": {
   "hash": "ae1fefc8646a06dd2e75004cd934adda7c5727b046986a772e3b44b0ffba9754"
  },
  "kernelspec": {
   "display_name": "Python 3 (ipykernel)",
   "language": "python",
   "name": "python3"
  },
  "language_info": {
   "codemirror_mode": {
    "name": "ipython",
    "version": 3
   },
   "file_extension": ".py",
   "mimetype": "text/x-python",
   "name": "python",
   "nbconvert_exporter": "python",
   "pygments_lexer": "ipython3",
   "version": "3.9.12"
  }
 },
 "nbformat": 4,
 "nbformat_minor": 4
}
