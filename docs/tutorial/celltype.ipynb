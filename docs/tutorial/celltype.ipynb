{
 "cells": [
  {
   "cell_type": "markdown",
   "id": "053a464e-df2f-4386-b537-4f0a4fb46408",
   "metadata": {},
   "source": [
    "# Cell type"
   ]
  },
  {
   "cell_type": "code",
   "execution_count": null,
   "id": "2421723d-76a7-4cc6-9a8b-ec493e15a4d8",
   "metadata": {},
   "outputs": [],
   "source": [
    "import bionty as bt"
   ]
  },
  {
   "cell_type": "code",
   "execution_count": null,
   "id": "35110e99-617a-4918-a701-77f4e82bb7aa",
   "metadata": {},
   "outputs": [],
   "source": [
    "ct = bt.CellType()"
   ]
  },
  {
   "cell_type": "code",
   "execution_count": null,
   "id": "2d337343-15f2-427e-8533-08bfe2989a9d",
   "metadata": {},
   "outputs": [],
   "source": [
    "dc = ct.dataclass"
   ]
  },
  {
   "cell_type": "code",
   "execution_count": null,
   "id": "4cc2bd2d-09dd-4912-99fe-13aa710b6480",
   "metadata": {},
   "outputs": [],
   "source": [
    "dc.CL_0000738"
   ]
  }
 ],
 "metadata": {
  "kernelspec": {
   "display_name": "Python 3 (ipykernel)",
   "language": "python",
   "name": "python3"
  },
  "language_info": {
   "codemirror_mode": {
    "name": "ipython",
    "version": 3
   },
   "file_extension": ".py",
   "mimetype": "text/x-python",
   "name": "python",
   "nbconvert_exporter": "python",
   "pygments_lexer": "ipython3",
   "version": "3.9.12"
  }
 },
 "nbformat": 4,
 "nbformat_minor": 5
}
