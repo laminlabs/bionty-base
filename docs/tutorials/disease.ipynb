{
 "cells": [
  {
   "cell_type": "markdown",
   "id": "617a9143-6930-4ce6-8972-c13dd7286c75",
   "metadata": {},
   "source": [
    "# Disease"
   ]
  },
  {
   "cell_type": "code",
   "execution_count": null,
   "id": "da1bf7ae-4894-4ddd-ae8c-ac05256d700e",
   "metadata": {},
   "outputs": [],
   "source": [
    "import bionty as bt"
   ]
  },
  {
   "cell_type": "code",
   "execution_count": null,
   "id": "5da4c676-72e9-4b3b-8603-47e0889dcdc4",
   "metadata": {},
   "outputs": [],
   "source": [
    "disease = bt.Disease()"
   ]
  },
  {
   "cell_type": "code",
   "execution_count": null,
   "id": "777776ed-031a-40c6-b971-230b059b67b9",
   "metadata": {},
   "outputs": [],
   "source": [
    "disease.df.head()"
   ]
  }
 ],
 "metadata": {
  "kernelspec": {
   "display_name": "Python 3 (ipykernel)",
   "language": "python",
   "name": "python3"
  },
  "language_info": {
   "codemirror_mode": {
    "name": "ipython",
    "version": 3
   },
   "file_extension": ".py",
   "mimetype": "text/x-python",
   "name": "python",
   "nbconvert_exporter": "python",
   "pygments_lexer": "ipython3",
   "version": "3.9.13"
  }
 },
 "nbformat": 4,
 "nbformat_minor": 5
}
