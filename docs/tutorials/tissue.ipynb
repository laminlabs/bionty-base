{
 "cells": [
  {
   "cell_type": "markdown",
   "id": "2feee69d-67d4-452b-861d-318d123ca70f",
   "metadata": {},
   "source": [
    "# Tissue"
   ]
  },
  {
   "cell_type": "code",
   "execution_count": null,
   "id": "82409b81-3ddf-44cf-9411-63378ce07ab7",
   "metadata": {},
   "outputs": [],
   "source": [
    "# import bionty as bt"
   ]
  },
  {
   "cell_type": "code",
   "execution_count": null,
   "id": "43049de5-cb7d-47ae-b9b1-b8dfc14cfd91",
   "metadata": {},
   "outputs": [],
   "source": [
    "# tissue = bt.Tissue()"
   ]
  },
  {
   "cell_type": "code",
   "execution_count": null,
   "id": "377c32f3-609a-4870-8e3f-2f05902ef83f",
   "metadata": {},
   "outputs": [],
   "source": [
    "# dc = tissue.dataclass"
   ]
  },
  {
   "cell_type": "code",
   "execution_count": null,
   "id": "bb522719-24db-411c-a6a2-31594571992b",
   "metadata": {},
   "outputs": [],
   "source": [
    "# dc"
   ]
  }
 ],
 "metadata": {
  "kernelspec": {
   "display_name": "Python 3 (ipykernel)",
   "language": "python",
   "name": "python3"
  },
  "language_info": {
   "codemirror_mode": {
    "name": "ipython",
    "version": 3
   },
   "file_extension": ".py",
   "mimetype": "text/x-python",
   "name": "python",
   "nbconvert_exporter": "python",
   "pygments_lexer": "ipython3",
   "version": "3.9.13"
  }
 },
 "nbformat": 4,
 "nbformat_minor": 5
}
