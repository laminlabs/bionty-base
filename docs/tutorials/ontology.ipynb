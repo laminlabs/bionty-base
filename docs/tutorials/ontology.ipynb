{
 "cells": [
  {
   "cell_type": "markdown",
   "id": "053a464e-df2f-4386-b537-4f0a4fb46408",
   "metadata": {},
   "source": [
    "# Access ontologies: cell type, disease, tissue\n",
    "\n",
    "When it comes to ontology defined vocabularies, such as cell type, disease and tissue, the entity class extends to have the ontology accessible via `{entity}.ontology`"
   ]
  },
  {
   "cell_type": "code",
   "execution_count": null,
   "id": "2421723d-76a7-4cc6-9a8b-ec493e15a4d8",
   "metadata": {},
   "outputs": [],
   "source": [
    "import bionty as bt"
   ]
  },
  {
   "cell_type": "markdown",
   "id": "1a61c7de",
   "metadata": {},
   "source": [
    "Here we look at cell type as an example:"
   ]
  },
  {
   "cell_type": "code",
   "execution_count": null,
   "id": "35110e99-617a-4918-a701-77f4e82bb7aa",
   "metadata": {},
   "outputs": [],
   "source": [
    "ct = bt.CellType()"
   ]
  },
  {
   "cell_type": "code",
   "execution_count": null,
   "id": "2d337343-15f2-427e-8533-08bfe2989a9d",
   "metadata": {},
   "outputs": [],
   "source": [
    "ct.df.head()"
   ]
  },
  {
   "cell_type": "markdown",
   "id": "d6d0b357",
   "metadata": {},
   "source": [
    "again you may look up the vocabulary using .lookup by tab completion"
   ]
  },
  {
   "cell_type": "code",
   "execution_count": null,
   "id": "6f5dfc76",
   "metadata": {},
   "outputs": [],
   "source": [
    "bt.CellType(id=\"name\").lookup.astrocyte"
   ]
  },
  {
   "cell_type": "markdown",
   "id": "f6e715d6",
   "metadata": {},
   "source": [
    "Cell type ontology is accessible via [pronto Ontology](https://pronto.readthedocs.io/en/stable/api/pronto.Ontology.html) as `.ontology`"
   ]
  },
  {
   "cell_type": "code",
   "execution_count": null,
   "id": "3793a081",
   "metadata": {},
   "outputs": [],
   "source": [
    "ct.ontology"
   ]
  },
  {
   "cell_type": "code",
   "execution_count": null,
   "id": "aba7b73c",
   "metadata": {},
   "outputs": [],
   "source": [
    "len(ct.ontology.terms())"
   ]
  },
  {
   "cell_type": "code",
   "execution_count": null,
   "id": "7882d934",
   "metadata": {},
   "outputs": [],
   "source": [
    "term = ct.ontology[\"CL:0000128\"]"
   ]
  },
  {
   "cell_type": "code",
   "execution_count": null,
   "id": "1d70db0d",
   "metadata": {},
   "outputs": [],
   "source": [
    "term.definition"
   ]
  },
  {
   "cell_type": "code",
   "execution_count": null,
   "id": "63e7b224",
   "metadata": {},
   "outputs": [],
   "source": [
    "term.is_leaf()"
   ]
  },
  {
   "cell_type": "markdown",
   "id": "e2856c9b",
   "metadata": {},
   "source": [
    "tissue and disease work similary"
   ]
  },
  {
   "cell_type": "code",
   "execution_count": null,
   "id": "07e553ed",
   "metadata": {},
   "outputs": [],
   "source": [
    "tissue = bt.Tissue()"
   ]
  },
  {
   "cell_type": "code",
   "execution_count": null,
   "id": "f1ef55ef",
   "metadata": {},
   "outputs": [],
   "source": [
    "tissue.df.head()"
   ]
  },
  {
   "cell_type": "code",
   "execution_count": null,
   "id": "760b9b29",
   "metadata": {},
   "outputs": [],
   "source": [
    "disease = bt.Disease()"
   ]
  },
  {
   "cell_type": "code",
   "execution_count": null,
   "id": "9440e5d3",
   "metadata": {},
   "outputs": [],
   "source": [
    "disease.df.head()"
   ]
  },
  {
   "cell_type": "code",
   "execution_count": null,
   "id": "fc4623a9",
   "metadata": {},
   "outputs": [],
   "source": []
  }
 ],
 "metadata": {
  "kernelspec": {
   "display_name": "Python 3.9.13 ('py39')",
   "language": "python",
   "name": "python3"
  },
  "language_info": {
   "codemirror_mode": {
    "name": "ipython",
    "version": 3
   },
   "file_extension": ".py",
   "mimetype": "text/x-python",
   "name": "python",
   "nbconvert_exporter": "python",
   "pygments_lexer": "ipython3",
   "version": "3.9.13"
  },
  "vscode": {
   "interpreter": {
    "hash": "ae1fefc8646a06dd2e75004cd934adda7c5727b046986a772e3b44b0ffba9754"
   }
  }
 },
 "nbformat": 4,
 "nbformat_minor": 5
}
