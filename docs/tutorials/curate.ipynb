{
 "cells": [
  {
   "cell_type": "markdown",
   "metadata": {},
   "source": [
    "# Curate entity identifiers"
   ]
  },
  {
   "cell_type": "markdown",
   "metadata": {},
   "source": [
    "To make data queryable by an entity identifier, one needs to ensure that identifiers comply to a chosen standard.\n",
    "\n",
    "Bionty has {meth}`~bionty.EntityTable.curate` for this."
   ]
  },
  {
   "cell_type": "code",
   "execution_count": null,
   "metadata": {},
   "outputs": [],
   "source": [
    "%load_ext autoreload\n",
    "%autoreload 2"
   ]
  },
  {
   "cell_type": "code",
   "execution_count": null,
   "metadata": {},
   "outputs": [],
   "source": [
    "from bionty import Gene\n",
    "import pandas as pd"
   ]
  },
  {
   "cell_type": "markdown",
   "metadata": {},
   "source": [
    "To illustrate it, take a DataFrame that stores a number of gene identifiers, some of them corrupted."
   ]
  },
  {
   "cell_type": "code",
   "execution_count": null,
   "metadata": {},
   "outputs": [],
   "source": [
    "data = {\n",
    "    \"hgnc_symbol\": [\"A1CF\", \"A1BG\", \"103AS\", \"corrupted\"],\n",
    "    \"hgnc_id\": [\"HGNC:24086\", \"HGNC:5\", \"HGNC:6332\", \"corrupted\"],\n",
    "    \"ensembl.gene_id\": [\n",
    "        \"ENSG00000148584\",\n",
    "        \"ENSG00000121410\",\n",
    "        \"ENSG00000189013\",\n",
    "        \"corrupted\",\n",
    "    ],\n",
    "}\n",
    "df_orig = pd.DataFrame(data).set_index(\"hgnc_id\")"
   ]
  },
  {
   "cell_type": "code",
   "execution_count": null,
   "metadata": {},
   "outputs": [],
   "source": [
    "df_orig"
   ]
  },
  {
   "cell_type": "markdown",
   "metadata": {},
   "source": [
    "To curate the DataFrame into queryable form, we create an index that corresponds to a default identifier. Here, in the case of human genes, the HGNC gene symbol.\n",
    "\n",
    "To do this, we need a reference identifier, one of 'hgnc_id', 'name', 'entrez.gene_id', 'ensembl.gene_id', 'vega_id', 'ucsc_id', 'pubmed_id', 'horde_id'. For instance:"
   ]
  },
  {
   "cell_type": "code",
   "execution_count": null,
   "metadata": {},
   "outputs": [],
   "source": [
    "Gene().curate(df_orig, column=\"ensembl.gene_id\")"
   ]
  },
  {
   "cell_type": "markdown",
   "metadata": {},
   "source": [
    "When mapping symbols, the function will automatically convert the aliases into standardized symbols. In this example, `103AS` is converted into `KIR2DL4`."
   ]
  },
  {
   "cell_type": "code",
   "execution_count": null,
   "metadata": {},
   "outputs": [],
   "source": [
    "Gene().curate(df_orig, column=\"hgnc_symbol\")"
   ]
  },
  {
   "cell_type": "code",
   "execution_count": null,
   "metadata": {},
   "outputs": [],
   "source": [
    "data = {\n",
    "    \"hgnc_symbol\": [\"A1CF\", \"A1BG\", \"corrupted1\", \"corrupted2\"],\n",
    "    \"hgnc_id\": [\"HGNC:24086\", \"HGNC:5\", \"corrupted1\", \"corrupted2\"],\n",
    "    \"ensembl.gene_id\": [\n",
    "        \"ENSG00000148584\",\n",
    "        \"ENSG00000121410\",\n",
    "        \"corrupted1\",\n",
    "        \"corrupted2\",\n",
    "    ],\n",
    "}\n",
    "df = pd.DataFrame(data).set_index(\"hgnc_id\")\n",
    "\n",
    "\n",
    "def test_curate():\n",
    "    df_curated = Gene().curate(df.set_index(\"hgnc_symbol\"))\n",
    "    assert df_curated.index.to_list() == [\"A1CF\", \"A1BG\", \"corrupted1\", \"corrupted2\"]\n",
    "    assert df_curated.__curated__.to_list() == [True, True, False, False]"
   ]
  },
  {
   "cell_type": "code",
   "execution_count": null,
   "metadata": {},
   "outputs": [],
   "source": [
    "test_curate()"
   ]
  },
  {
   "cell_type": "code",
   "execution_count": null,
   "metadata": {},
   "outputs": [],
   "source": [
    "Gene().curate(df.set_index(\"hgnc_symbol\"))"
   ]
  },
  {
   "cell_type": "code",
   "execution_count": null,
   "metadata": {},
   "outputs": [],
   "source": [
    "pd.Series(df.index, index=df.index)"
   ]
  },
  {
   "cell_type": "code",
   "execution_count": null,
   "metadata": {},
   "outputs": [],
   "source": []
  }
 ],
 "metadata": {
  "interpreter": {
   "hash": "ae1fefc8646a06dd2e75004cd934adda7c5727b046986a772e3b44b0ffba9754"
  },
  "kernelspec": {
   "display_name": "Python 3.9.13 ('py39')",
   "language": "python",
   "name": "python3"
  },
  "language_info": {
   "codemirror_mode": {
    "name": "ipython",
    "version": 3
   },
   "file_extension": ".py",
   "mimetype": "text/x-python",
   "name": "python",
   "nbconvert_exporter": "python",
   "pygments_lexer": "ipython3",
   "version": "3.9.13"
  },
  "vscode": {
   "interpreter": {
    "hash": "2775e555cdc2d728c54aa22130c79afb1fa4da64f22f2fc6dcc2aa346c4e0672"
   }
  }
 },
 "nbformat": 4,
 "nbformat_minor": 2
}
