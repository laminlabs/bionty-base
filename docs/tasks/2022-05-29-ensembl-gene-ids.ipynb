{
 "cells": [
  {
   "cell_type": "markdown",
   "metadata": {},
   "source": [
    "# `ensembl_gene_id` to `hgnc_id` mapping\n",
    "\n",
    "This mapping can be obtained via:\n",
    "1. hgnc\n",
    "2. ensembl\n",
    "\n",
    "We should always use the reference table from hgnc website when converting hgnc_id to other ids, as it's carefully curated to ensure unique mapping.\n",
    "\n",
    "If you access the id mapping through ensembl, in a lot of cases, multiple ensembl ids map to the same hgnc_id."
   ]
  },
  {
   "cell_type": "code",
   "execution_count": 1,
   "metadata": {},
   "outputs": [],
   "source": [
    "import bionty as bt\n",
    "import pandas as pd"
   ]
  },
  {
   "cell_type": "code",
   "execution_count": 2,
   "metadata": {},
   "outputs": [],
   "source": [
    "gn = bt.Gene(species=\"human\")"
   ]
  },
  {
   "cell_type": "code",
   "execution_count": null,
   "metadata": {},
   "outputs": [],
   "source": [
    "ens = gn.reference"
   ]
  },
  {
   "cell_type": "code",
   "execution_count": 9,
   "metadata": {},
   "outputs": [
    {
     "name": "stderr",
     "output_type": "stream",
     "text": [
      "/var/folders/m8/s9fnpvhj7qsgng70w8xpts_m0000gn/T/ipykernel_42456/1424979734.py:1: DtypeWarning: Columns (32,34,38,40,50) have mixed types. Specify dtype option on import or set low_memory=False.\n",
      "  df = pd.read_csv('../guides/data/hgnc_complete_set.txt', sep='\\t')\n"
     ]
    }
   ],
   "source": [
    "hgnc = pd.read_csv(\"../guides/data/hgnc_complete_set.txt\", sep=\"\\t\")"
   ]
  },
  {
   "cell_type": "code",
   "execution_count": null,
   "metadata": {},
   "outputs": [],
   "source": [
    "diff_set = set(ens[\"ensembl_gene_id\"].values).difference(df.ensembl_gene_id)\n",
    "\n",
    "ref_diff = ens[ens[\"ensembl_gene_id\"].isin(diff_set)]"
   ]
  },
  {
   "cell_type": "markdown",
   "metadata": {},
   "source": [
    "Here you already see both two ensembl ids (index 40 and 42) map to HGNC:6338"
   ]
  },
  {
   "cell_type": "code",
   "execution_count": null,
   "metadata": {},
   "outputs": [
    {
     "data": {
      "text/html": [
       "<div>\n",
       "<style scoped>\n",
       "    .dataframe tbody tr th:only-of-type {\n",
       "        vertical-align: middle;\n",
       "    }\n",
       "\n",
       "    .dataframe tbody tr th {\n",
       "        vertical-align: top;\n",
       "    }\n",
       "\n",
       "    .dataframe thead th {\n",
       "        text-align: right;\n",
       "    }\n",
       "</style>\n",
       "<table border=\"1\" class=\"dataframe\">\n",
       "  <thead>\n",
       "    <tr style=\"text-align: right;\">\n",
       "      <th></th>\n",
       "      <th>ensembl_gene_id</th>\n",
       "      <th>entrezgene_id</th>\n",
       "      <th>hgnc_id</th>\n",
       "      <th>hgnc_symbol</th>\n",
       "    </tr>\n",
       "  </thead>\n",
       "  <tbody>\n",
       "    <tr>\n",
       "      <th>37</th>\n",
       "      <td>ENSG00000278704</td>\n",
       "      <td>NaN</td>\n",
       "      <td>NaN</td>\n",
       "      <td>NaN</td>\n",
       "    </tr>\n",
       "    <tr>\n",
       "      <th>38</th>\n",
       "      <td>ENSG00000262826</td>\n",
       "      <td>65123</td>\n",
       "      <td>HGNC:26153</td>\n",
       "      <td>INTS3</td>\n",
       "    </tr>\n",
       "    <tr>\n",
       "      <th>39</th>\n",
       "      <td>ENSG00000275151</td>\n",
       "      <td>NaN</td>\n",
       "      <td>NaN</td>\n",
       "      <td>NaN</td>\n",
       "    </tr>\n",
       "    <tr>\n",
       "      <th>40</th>\n",
       "      <td>ENSG00000275717</td>\n",
       "      <td>3811</td>\n",
       "      <td>HGNC:6338</td>\n",
       "      <td>KIR3DL1</td>\n",
       "    </tr>\n",
       "    <tr>\n",
       "      <th>41</th>\n",
       "      <td>ENSG00000274714</td>\n",
       "      <td>3809</td>\n",
       "      <td>HGNC:6336</td>\n",
       "      <td>KIR2DS4</td>\n",
       "    </tr>\n",
       "    <tr>\n",
       "      <th>42</th>\n",
       "      <td>ENSG00000276379</td>\n",
       "      <td>3811</td>\n",
       "      <td>HGNC:6338</td>\n",
       "      <td>KIR3DL1</td>\n",
       "    </tr>\n",
       "    <tr>\n",
       "      <th>43</th>\n",
       "      <td>ENSG00000280538</td>\n",
       "      <td>NaN</td>\n",
       "      <td>NaN</td>\n",
       "      <td>NaN</td>\n",
       "    </tr>\n",
       "    <tr>\n",
       "      <th>44</th>\n",
       "      <td>ENSG00000274324</td>\n",
       "      <td>3809</td>\n",
       "      <td>HGNC:6336</td>\n",
       "      <td>KIR2DS4</td>\n",
       "    </tr>\n",
       "    <tr>\n",
       "      <th>45</th>\n",
       "      <td>ENSG00000271254</td>\n",
       "      <td>102724250</td>\n",
       "      <td>NaN</td>\n",
       "      <td>NaN</td>\n",
       "    </tr>\n",
       "    <tr>\n",
       "      <th>46</th>\n",
       "      <td>ENSG00000275047</td>\n",
       "      <td>3810</td>\n",
       "      <td>HGNC:6337</td>\n",
       "      <td>KIR2DS5</td>\n",
       "    </tr>\n",
       "  </tbody>\n",
       "</table>\n",
       "</div>"
      ],
      "text/plain": [
       "    ensembl_gene_id entrezgene_id     hgnc_id hgnc_symbol\n",
       "37  ENSG00000278704           NaN         NaN         NaN\n",
       "38  ENSG00000262826         65123  HGNC:26153       INTS3\n",
       "39  ENSG00000275151           NaN         NaN         NaN\n",
       "40  ENSG00000275717          3811   HGNC:6338     KIR3DL1\n",
       "41  ENSG00000274714          3809   HGNC:6336     KIR2DS4\n",
       "42  ENSG00000276379          3811   HGNC:6338     KIR3DL1\n",
       "43  ENSG00000280538           NaN         NaN         NaN\n",
       "44  ENSG00000274324          3809   HGNC:6336     KIR2DS4\n",
       "45  ENSG00000271254     102724250         NaN         NaN\n",
       "46  ENSG00000275047          3810   HGNC:6337     KIR2DS5"
      ]
     },
     "metadata": {},
     "output_type": "display_data"
    }
   ],
   "source": [
    "ref_diff.head(10)"
   ]
  },
  {
   "cell_type": "markdown",
   "metadata": {},
   "source": [
    "If you search for the hgnc_id HGNC:6338 in hgnc, you got another ensembl id ENSG00000167633"
   ]
  },
  {
   "cell_type": "code",
   "execution_count": null,
   "metadata": {},
   "outputs": [
    {
     "data": {
      "text/plain": [
       "13835    ENSG00000167633\n",
       "Name: ensembl_gene_id, dtype: object"
      ]
     },
     "metadata": {},
     "output_type": "display_data"
    }
   ],
   "source": [
    "hgnc[hgnc.hgnc_id == \"HGNC:6338\"][\"ensembl_gene_id\"]"
   ]
  },
  {
   "cell_type": "markdown",
   "metadata": {},
   "source": [
    "Check whether ENSG00000167633 is mapped to HGNC:6338 in ensembl, yes at least it is"
   ]
  },
  {
   "cell_type": "code",
   "execution_count": null,
   "metadata": {},
   "outputs": [
    {
     "data": {
      "text/html": [
       "<div>\n",
       "<style scoped>\n",
       "    .dataframe tbody tr th:only-of-type {\n",
       "        vertical-align: middle;\n",
       "    }\n",
       "\n",
       "    .dataframe tbody tr th {\n",
       "        vertical-align: top;\n",
       "    }\n",
       "\n",
       "    .dataframe thead th {\n",
       "        text-align: right;\n",
       "    }\n",
       "</style>\n",
       "<table border=\"1\" class=\"dataframe\">\n",
       "  <thead>\n",
       "    <tr style=\"text-align: right;\">\n",
       "      <th></th>\n",
       "      <th>ensembl_gene_id</th>\n",
       "      <th>entrezgene_id</th>\n",
       "      <th>hgnc_id</th>\n",
       "      <th>hgnc_symbol</th>\n",
       "    </tr>\n",
       "  </thead>\n",
       "  <tbody>\n",
       "    <tr>\n",
       "      <th>62030</th>\n",
       "      <td>ENSG00000167633</td>\n",
       "      <td>3811</td>\n",
       "      <td>HGNC:6338</td>\n",
       "      <td>KIR3DL1</td>\n",
       "    </tr>\n",
       "  </tbody>\n",
       "</table>\n",
       "</div>"
      ],
      "text/plain": [
       "       ensembl_gene_id entrezgene_id    hgnc_id hgnc_symbol\n",
       "62030  ENSG00000167633          3811  HGNC:6338     KIR3DL1"
      ]
     },
     "metadata": {},
     "output_type": "display_data"
    }
   ],
   "source": [
    "ens[ens.ensembl_gene_id == \"ENSG00000167633\"]"
   ]
  },
  {
   "cell_type": "code",
   "execution_count": null,
   "metadata": {},
   "outputs": [],
   "source": []
  }
 ],
 "metadata": {
  "interpreter": {
   "hash": "ae1fefc8646a06dd2e75004cd934adda7c5727b046986a772e3b44b0ffba9754"
  },
  "kernelspec": {
   "display_name": "Python 3.9.7 ('py39')",
   "language": "python",
   "name": "python3"
  },
  "language_info": {
   "codemirror_mode": {
    "name": "ipython",
    "version": 3
   },
   "file_extension": ".py",
   "mimetype": "text/x-python",
   "name": "python",
   "nbconvert_exporter": "python",
   "pygments_lexer": "ipython3",
   "version": "3.9.7"
  },
  "orig_nbformat": 4
 },
 "nbformat": 4,
 "nbformat_minor": 2
}
