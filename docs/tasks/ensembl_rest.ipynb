{
 "cells": [
  {
   "cell_type": "markdown",
   "metadata": {},
   "source": [
    "# Ensembl REST API"
   ]
  },
  {
   "cell_type": "code",
   "execution_count": 1,
   "metadata": {},
   "outputs": [],
   "source": [
    "%load_ext autoreload\n",
    "%autoreload 2"
   ]
  },
  {
   "cell_type": "code",
   "execution_count": 2,
   "metadata": {},
   "outputs": [],
   "source": [
    "from bionty._servers import EnsemblREST"
   ]
  },
  {
   "cell_type": "code",
   "execution_count": 3,
   "metadata": {},
   "outputs": [],
   "source": [
    "er = EnsemblREST()"
   ]
  },
  {
   "cell_type": "code",
   "execution_count": null,
   "metadata": {},
   "outputs": [],
   "source": [
    "ids = [\"ENSG00000275717\", \"ENSG00000248378\"]"
   ]
  },
  {
   "cell_type": "markdown",
   "metadata": {},
   "source": [
    "Check if ids are current"
   ]
  },
  {
   "cell_type": "code",
   "execution_count": 4,
   "metadata": {},
   "outputs": [
    {
     "data": {
      "text/plain": [
       "[{'latest': 'ENSG00000275717.5',\n",
       "  'assembly': 'GRCh38',\n",
       "  'id': 'ENSG00000275717',\n",
       "  'peptide': None,\n",
       "  'is_current': '1',\n",
       "  'version': 5,\n",
       "  'release': '106',\n",
       "  'possible_replacement': [],\n",
       "  'type': 'Gene'},\n",
       " {'latest': 'ENSG00000248378.1',\n",
       "  'assembly': 'GRCh38',\n",
       "  'peptide': None,\n",
       "  'id': 'ENSG00000248378',\n",
       "  'is_current': '1',\n",
       "  'version': 1,\n",
       "  'release': '106',\n",
       "  'possible_replacement': [],\n",
       "  'type': 'Gene'}]"
      ]
     },
     "execution_count": 4,
     "metadata": {},
     "output_type": "execute_result"
    }
   ],
   "source": [
    "er.archive_ids(ids)"
   ]
  },
  {
   "cell_type": "markdown",
   "metadata": {},
   "source": [
    "Retrieve external references for an id"
   ]
  },
  {
   "cell_type": "code",
   "execution_count": 5,
   "metadata": {},
   "outputs": [],
   "source": [
    "res = er.xref(\"ENSG00000275717\")"
   ]
  },
  {
   "cell_type": "code",
   "execution_count": 6,
   "metadata": {},
   "outputs": [
    {
     "data": {
      "text/plain": [
       "[{'synonyms': [],\n",
       "  'display_id': 'ENSG00000275717',\n",
       "  'info_type': 'DIRECT',\n",
       "  'info_text': '',\n",
       "  'primary_id': 'ENSG00000275717',\n",
       "  'description': None,\n",
       "  'db_display_name': 'Expression Atlas',\n",
       "  'version': '0',\n",
       "  'dbname': 'ArrayExpress'},\n",
       " {'info_type': 'DEPENDENT',\n",
       "  'info_text': '',\n",
       "  'synonyms': [],\n",
       "  'display_id': 'KIR3DL1',\n",
       "  'description': 'killer cell immunoglobulin like receptor, three Ig domains and long cytoplasmic tail 1',\n",
       "  'primary_id': '3811',\n",
       "  'db_display_name': 'NCBI gene (formerly Entrezgene)',\n",
       "  'dbname': 'EntrezGene',\n",
       "  'version': '0'}]"
      ]
     },
     "execution_count": 6,
     "metadata": {},
     "output_type": "execute_result"
    }
   ],
   "source": [
    "res[:2]"
   ]
  },
  {
   "cell_type": "code",
   "execution_count": 7,
   "metadata": {},
   "outputs": [
    {
     "data": {
      "text/plain": [
       "{'ArrayExpress',\n",
       " 'EntrezGene',\n",
       " 'HGNC',\n",
       " 'MIM_GENE',\n",
       " 'MIM_MORBID',\n",
       " 'Uniprot_gn',\n",
       " 'WikiGene'}"
      ]
     },
     "execution_count": 7,
     "metadata": {},
     "output_type": "execute_result"
    }
   ],
   "source": [
    "set([i[\"dbname\"] for i in res])"
   ]
  },
  {
   "cell_type": "markdown",
   "metadata": {},
   "source": [
    "Retrieve external references for multiple ids"
   ]
  },
  {
   "cell_type": "code",
   "execution_count": 8,
   "metadata": {},
   "outputs": [],
   "source": [
    "res = er.xref(ids)"
   ]
  },
  {
   "cell_type": "code",
   "execution_count": 12,
   "metadata": {},
   "outputs": [
    {
     "data": {
      "text/plain": [
       "{'ArrayExpress',\n",
       " 'EntrezGene',\n",
       " 'HGNC',\n",
       " 'MIM_GENE',\n",
       " 'MIM_MORBID',\n",
       " 'Uniprot_gn',\n",
       " 'WikiGene'}"
      ]
     },
     "execution_count": 12,
     "metadata": {},
     "output_type": "execute_result"
    }
   ],
   "source": [
    "set([i[\"dbname\"] for i in res[0]])"
   ]
  },
  {
   "cell_type": "code",
   "execution_count": null,
   "metadata": {},
   "outputs": [],
   "source": []
  }
 ],
 "metadata": {
  "interpreter": {
   "hash": "ae1fefc8646a06dd2e75004cd934adda7c5727b046986a772e3b44b0ffba9754"
  },
  "kernelspec": {
   "display_name": "Python 3.9.7 ('py39')",
   "language": "python",
   "name": "python3"
  },
  "language_info": {
   "codemirror_mode": {
    "name": "ipython",
    "version": 3
   },
   "file_extension": ".py",
   "mimetype": "text/x-python",
   "name": "python",
   "nbconvert_exporter": "python",
   "pygments_lexer": "ipython3",
   "version": "3.9.13"
  },
  "orig_nbformat": 4
 },
 "nbformat": 4,
 "nbformat_minor": 2
}
