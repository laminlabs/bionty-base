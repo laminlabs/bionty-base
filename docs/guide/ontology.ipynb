{
 "cells": [
  {
   "cell_type": "markdown",
   "id": "053a464e-df2f-4386-b537-4f0a4fb46408",
   "metadata": {},
   "source": [
    "# Access ontologies\n",
    "\n",
    "When it comes to ontology defined vocabularies, such as cell type, tissue, disease, and phenotype, [Pronto Ontology object](https://pronto.readthedocs.io/en/stable/api/pronto.Ontology.html) can be accessed via `{entity}.ontology`\n",
    "\n"
   ]
  },
  {
   "cell_type": "code",
   "execution_count": null,
   "id": "2421723d-76a7-4cc6-9a8b-ec493e15a4d8",
   "metadata": {},
   "outputs": [],
   "source": [
    "import bionty as bt"
   ]
  },
  {
   "cell_type": "markdown",
   "id": "1a61c7de",
   "metadata": {},
   "source": [
    "## Basic fields: name, ontology_id, definition, synonyms, children\n",
    "\n",
    "These fields are parsed into the DataFrame(`df()`) and lookup object to be directly accessible"
   ]
  },
  {
   "cell_type": "code",
   "execution_count": null,
   "id": "35110e99-617a-4918-a701-77f4e82bb7aa",
   "metadata": {},
   "outputs": [],
   "source": [
    "disease_bt = bt.Disease()\n",
    "\n",
    "disease_bt"
   ]
  },
  {
   "cell_type": "code",
   "execution_count": null,
   "id": "112f815c",
   "metadata": {},
   "outputs": [],
   "source": [
    "disease_bt.df().head()"
   ]
  },
  {
   "cell_type": "code",
   "execution_count": null,
   "id": "c1081293",
   "metadata": {},
   "outputs": [],
   "source": [
    "lookup = disease_bt.lookup()"
   ]
  },
  {
   "cell_type": "code",
   "execution_count": null,
   "id": "372a639d",
   "metadata": {},
   "outputs": [],
   "source": [
    "lookup_record = lookup.alzheimer_disease\n",
    "\n",
    "lookup_record"
   ]
  },
  {
   "cell_type": "code",
   "execution_count": null,
   "id": "3b2851fd",
   "metadata": {},
   "outputs": [],
   "source": [
    "lookup_record.definition"
   ]
  },
  {
   "cell_type": "markdown",
   "id": "4cb4718b",
   "metadata": {},
   "source": [
    "Synonyms are concatenated into a string with bars `|`:"
   ]
  },
  {
   "cell_type": "code",
   "execution_count": null,
   "id": "c52264e2",
   "metadata": {},
   "outputs": [],
   "source": [
    "lookup_record.synonyms"
   ]
  },
  {
   "cell_type": "markdown",
   "id": "58cd007f",
   "metadata": {},
   "source": [
    "Parents with distance=1 can be directly accessed:"
   ]
  },
  {
   "cell_type": "code",
   "execution_count": null,
   "id": "57de831b",
   "metadata": {},
   "outputs": [],
   "source": [
    "lookup_record.parents"
   ]
  },
  {
   "cell_type": "markdown",
   "id": "66ba4cba",
   "metadata": {},
   "source": [
    "## `.pronto`: Pronto Ontology\n",
    "\n",
    "More hierarchical information can be accessed from the Pronto Ontology object:"
   ]
  },
  {
   "cell_type": "code",
   "execution_count": null,
   "id": "3793a081",
   "metadata": {},
   "outputs": [],
   "source": [
    "pronto_object = disease_bt.ontology"
   ]
  },
  {
   "cell_type": "code",
   "execution_count": null,
   "id": "3bd888f2",
   "metadata": {},
   "outputs": [],
   "source": [
    "pronto_object"
   ]
  },
  {
   "cell_type": "code",
   "execution_count": null,
   "id": "d35e2d43",
   "metadata": {},
   "outputs": [],
   "source": [
    "term = pronto_object.get_term(\"MONDO:0004975\")\n",
    "\n",
    "term"
   ]
  },
  {
   "cell_type": "code",
   "execution_count": null,
   "id": "48cd3de5",
   "metadata": {},
   "outputs": [],
   "source": [
    "list(term.subclasses(distance=2, with_self=False))"
   ]
  },
  {
   "cell_type": "markdown",
   "id": "be4cab83",
   "metadata": {},
   "source": [
    "## Extra fields"
   ]
  },
  {
   "cell_type": "markdown",
   "id": "879230a6",
   "metadata": {},
   "source": [
    "{class}`~bionty.ExperimentalFactor` parses [Experimental Factor Ontology](https://www.ebi.ac.uk/efo/) to the following additional categories for describing biological experiments:\n",
    "- molecule\n",
    "- instrument\n",
    "- measurement"
   ]
  },
  {
   "cell_type": "code",
   "execution_count": null,
   "id": "51ed41d8",
   "metadata": {},
   "outputs": [],
   "source": [
    "readout_bt = bt.ExperimentalFactor()"
   ]
  },
  {
   "cell_type": "code",
   "execution_count": null,
   "id": "992c40bf",
   "metadata": {},
   "outputs": [],
   "source": [
    "readout_bt.df().head()"
   ]
  },
  {
   "cell_type": "code",
   "execution_count": null,
   "id": "4891f65b",
   "metadata": {},
   "outputs": [],
   "source": [
    "lookup = readout_bt.lookup()"
   ]
  },
  {
   "cell_type": "markdown",
   "id": "689b1622",
   "metadata": {},
   "source": [
    "Look up a molecular readout:"
   ]
  },
  {
   "cell_type": "code",
   "execution_count": null,
   "id": "6edacdf2",
   "metadata": {},
   "outputs": [],
   "source": [
    "lookup_record = lookup.single_cell_rna_sequencing"
   ]
  },
  {
   "cell_type": "code",
   "execution_count": null,
   "id": "21dbb0a0",
   "metadata": {},
   "outputs": [],
   "source": [
    "lookup_record"
   ]
  },
  {
   "cell_type": "code",
   "execution_count": null,
   "id": "f05f4736",
   "metadata": {},
   "outputs": [],
   "source": [
    "lookup_record.molecule"
   ]
  },
  {
   "cell_type": "code",
   "execution_count": null,
   "id": "a751bcb3",
   "metadata": {},
   "outputs": [],
   "source": [
    "lookup_record.instrument"
   ]
  },
  {
   "cell_type": "markdown",
   "id": "9e501882",
   "metadata": {},
   "source": [
    "Lookup a phenotypic readout:"
   ]
  },
  {
   "cell_type": "code",
   "execution_count": null,
   "id": "769ca699",
   "metadata": {},
   "outputs": [],
   "source": [
    "lookup.tumor_size"
   ]
  },
  {
   "cell_type": "markdown",
   "id": "76e2e2f9-19c0-46e2-97f6-4487428ed1c3",
   "metadata": {},
   "source": [
    "## Comparing ontology versions"
   ]
  },
  {
   "cell_type": "markdown",
   "id": "afa16569-5f98-41ec-981c-db1b81fbbe91",
   "metadata": {},
   "source": [
    "Bionty provides {func}`bionty.Bionty.diff` to determine a diff between two ontology versions."
   ]
  },
  {
   "cell_type": "code",
   "execution_count": null,
   "id": "f2b7ba3c-6f25-49d2-9dc2-589fee0f0d53",
   "metadata": {
    "tags": []
   },
   "outputs": [],
   "source": [
    "disease_bt_old = bt.Disease(source=\"mondo\", version=\"2023-04-04\")\n",
    "disease_bt_new = bt.Disease(source=\"mondo\", version=\"2023-02-06\")\n",
    "\n",
    "new_entries, modified_entries = disease_bt_old.diff(disease_bt_new)"
   ]
  },
  {
   "cell_type": "code",
   "execution_count": null,
   "id": "1f7cbe33-b7f3-4c76-b277-3b849ac2ed98",
   "metadata": {
    "tags": []
   },
   "outputs": [],
   "source": [
    "new_entries.head()"
   ]
  },
  {
   "cell_type": "code",
   "execution_count": null,
   "id": "05dfa5e3-a50c-4488-bc86-929fd198c30d",
   "metadata": {
    "tags": []
   },
   "outputs": [],
   "source": [
    "modified_entries.head()"
   ]
  },
  {
   "cell_type": "code",
   "execution_count": null,
   "id": "8ff90ce1-d427-43f6-9c22-868878d59a35",
   "metadata": {},
   "outputs": [],
   "source": []
  }
 ],
 "metadata": {
  "citation-manager": {
   "items": {}
  },
  "kernelspec": {
   "display_name": "Python 3 (ipykernel)",
   "language": "python",
   "name": "python3"
  },
  "language_info": {
   "codemirror_mode": {
    "name": "ipython",
    "version": 3
   },
   "file_extension": ".py",
   "mimetype": "text/x-python",
   "name": "python",
   "nbconvert_exporter": "python",
   "pygments_lexer": "ipython3",
   "version": "3.9.16"
  },
  "vscode": {
   "interpreter": {
    "hash": "ae1fefc8646a06dd2e75004cd934adda7c5727b046986a772e3b44b0ffba9754"
   }
  }
 },
 "nbformat": 4,
 "nbformat_minor": 5
}
