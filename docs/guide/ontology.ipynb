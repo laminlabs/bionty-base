{
 "cells": [
  {
   "attachments": {},
   "cell_type": "markdown",
   "id": "053a464e-df2f-4386-b537-4f0a4fb46408",
   "metadata": {},
   "source": [
    "# Access ontologies: cell type, tissue, disease, phenotype\n",
    "\n",
    "When it comes to ontology defined vocabularies, such as cell type, tissue, disease, and phenotype, the entity class extends to have the ontology accessible via `{entity}.ontology`"
   ]
  },
  {
   "cell_type": "code",
   "execution_count": null,
   "id": "2421723d-76a7-4cc6-9a8b-ec493e15a4d8",
   "metadata": {},
   "outputs": [],
   "source": [
    "import bionty as bt"
   ]
  },
  {
   "attachments": {},
   "cell_type": "markdown",
   "id": "fdec8739-4605-4b93-b7f4-be3d7bc22367",
   "metadata": {},
   "source": [
    "All available ontologies and their versions can be printed with:"
   ]
  },
  {
   "cell_type": "code",
   "execution_count": null,
   "id": "35412cec-2abf-4690-a784-69c9e818f07e",
   "metadata": {},
   "outputs": [],
   "source": [
    "bt.display_available_versions()"
   ]
  },
  {
   "attachments": {},
   "cell_type": "markdown",
   "id": "6e33f73d-ea0a-40f8-899d-0451a7d6fc6e",
   "metadata": {},
   "source": [
    "The currently used versions can be shown with:"
   ]
  },
  {
   "cell_type": "code",
   "execution_count": null,
   "id": "18e77dfa-5c82-46fd-8955-21467a19ab09",
   "metadata": {},
   "outputs": [],
   "source": [
    "bt.display_active_versions()"
   ]
  },
  {
   "attachments": {},
   "cell_type": "markdown",
   "id": "da817e13-2102-47af-8d05-da8f1039ec47",
   "metadata": {},
   "source": [
    "## Cell Type"
   ]
  },
  {
   "attachments": {},
   "cell_type": "markdown",
   "id": "1a61c7de",
   "metadata": {},
   "source": [
    "Here we look at cell type as an example:"
   ]
  },
  {
   "cell_type": "code",
   "execution_count": null,
   "id": "35110e99-617a-4918-a701-77f4e82bb7aa",
   "metadata": {},
   "outputs": [],
   "source": [
    "ct = bt.CellType()"
   ]
  },
  {
   "cell_type": "code",
   "execution_count": null,
   "id": "2d337343-15f2-427e-8533-08bfe2989a9d",
   "metadata": {},
   "outputs": [],
   "source": [
    "df = ct.df()\n",
    "df.head()"
   ]
  },
  {
   "attachments": {},
   "cell_type": "markdown",
   "id": "d6d0b357",
   "metadata": {},
   "source": [
    "again you may look up the vocabulary using .lookup by tab completion"
   ]
  },
  {
   "cell_type": "code",
   "execution_count": null,
   "id": "6f5dfc76",
   "metadata": {},
   "outputs": [],
   "source": [
    "lookup = bt.CellType().lookup()"
   ]
  },
  {
   "cell_type": "code",
   "execution_count": null,
   "id": "a13bac07",
   "metadata": {},
   "outputs": [],
   "source": [
    "lookup.astrocyte"
   ]
  },
  {
   "cell_type": "code",
   "execution_count": null,
   "id": "5ddd6918",
   "metadata": {},
   "outputs": [],
   "source": [
    "lookup.astrocyte.definition"
   ]
  },
  {
   "cell_type": "code",
   "execution_count": null,
   "id": "e4adaa37",
   "metadata": {},
   "outputs": [],
   "source": [
    "lookup.astrocyte.synonyms"
   ]
  },
  {
   "cell_type": "code",
   "execution_count": null,
   "id": "e4e19d23",
   "metadata": {},
   "outputs": [],
   "source": [
    "lookup.astrocyte.children"
   ]
  },
  {
   "attachments": {},
   "cell_type": "markdown",
   "id": "f6e715d6",
   "metadata": {},
   "source": [
    "[pronto Ontology object](https://pronto.readthedocs.io/en/stable/api/pronto.Ontology.html) is accessible via  as `.ontology`"
   ]
  },
  {
   "cell_type": "code",
   "execution_count": null,
   "id": "3793a081",
   "metadata": {},
   "outputs": [],
   "source": [
    "pronto_ontology = ct.ontology"
   ]
  },
  {
   "cell_type": "code",
   "execution_count": null,
   "id": "3bd888f2",
   "metadata": {},
   "outputs": [],
   "source": [
    "pronto_ontology"
   ]
  },
  {
   "attachments": {},
   "cell_type": "markdown",
   "id": "e2856c9b",
   "metadata": {},
   "source": [
    "tissue, disease, and phenotype work similary"
   ]
  },
  {
   "attachments": {},
   "cell_type": "markdown",
   "id": "b9872bce-88b0-4118-9579-046e16b7dd1e",
   "metadata": {},
   "source": [
    "## Tissue"
   ]
  },
  {
   "cell_type": "code",
   "execution_count": null,
   "id": "07e553ed",
   "metadata": {},
   "outputs": [],
   "source": [
    "tissue = bt.Tissue()"
   ]
  },
  {
   "cell_type": "code",
   "execution_count": null,
   "id": "f1ef55ef",
   "metadata": {},
   "outputs": [],
   "source": [
    "df = tissue.df()\n",
    "df.head()"
   ]
  },
  {
   "cell_type": "code",
   "execution_count": null,
   "id": "a900fcc7",
   "metadata": {},
   "outputs": [],
   "source": [
    "lookup = tissue.lookup()"
   ]
  },
  {
   "cell_type": "code",
   "execution_count": null,
   "id": "a1482617",
   "metadata": {},
   "outputs": [],
   "source": [
    "lookup.kidney"
   ]
  },
  {
   "attachments": {},
   "cell_type": "markdown",
   "id": "73b5eab8-f1e5-4bac-9bae-1412be65ba90",
   "metadata": {},
   "source": [
    "## Disease"
   ]
  },
  {
   "cell_type": "code",
   "execution_count": null,
   "id": "760b9b29",
   "metadata": {},
   "outputs": [],
   "source": [
    "disease = bt.Disease()"
   ]
  },
  {
   "cell_type": "code",
   "execution_count": null,
   "id": "9440e5d3",
   "metadata": {},
   "outputs": [],
   "source": [
    "df = disease.df()\n",
    "df.head()"
   ]
  },
  {
   "cell_type": "code",
   "execution_count": null,
   "id": "fc4623a9",
   "metadata": {},
   "outputs": [],
   "source": [
    "lookup = disease.lookup()"
   ]
  },
  {
   "cell_type": "code",
   "execution_count": null,
   "id": "8a8e765f",
   "metadata": {},
   "outputs": [],
   "source": [
    "lookup.chronic_kidney_disease"
   ]
  },
  {
   "attachments": {},
   "cell_type": "markdown",
   "id": "53364562-b2d5-4fd9-b6ca-3dbfdd4e4b13",
   "metadata": {},
   "source": [
    "## Phenotype"
   ]
  },
  {
   "cell_type": "code",
   "execution_count": null,
   "id": "067dc9f2-73c0-4aee-822d-b4d9a9427b26",
   "metadata": {
    "tags": []
   },
   "outputs": [],
   "source": [
    "phenotype = bt.Phenotype()"
   ]
  },
  {
   "cell_type": "code",
   "execution_count": null,
   "id": "485561d8-107d-4999-924b-d9eabfb3fded",
   "metadata": {},
   "outputs": [],
   "source": [
    "df = phenotype.df()\n",
    "df.head()"
   ]
  },
  {
   "cell_type": "code",
   "execution_count": null,
   "id": "428267c3-57e5-439a-a637-cd822ae9ecb7",
   "metadata": {
    "pycharm": {
     "name": "#%%\n"
    },
    "tags": []
   },
   "outputs": [],
   "source": [
    "lookup = phenotype.lookup()"
   ]
  },
  {
   "cell_type": "code",
   "execution_count": null,
   "id": "b4d4824d",
   "metadata": {},
   "outputs": [],
   "source": [
    "lookup.Abnormal_blood_glucose_concentration"
   ]
  },
  {
   "attachments": {},
   "cell_type": "markdown",
   "id": "be4cab83",
   "metadata": {},
   "source": [
    "## Readout"
   ]
  },
  {
   "attachments": {},
   "cell_type": "markdown",
   "id": "879230a6",
   "metadata": {},
   "source": [
    "{class}`~bionty.Readout` parses [Experimental Factor Ontology](https://www.ebi.ac.uk/efo/) to the following additonal categories for describing biological experiments:\n",
    "- molecule\n",
    "- instrument\n",
    "- measurement"
   ]
  },
  {
   "cell_type": "code",
   "execution_count": null,
   "id": "51ed41d8",
   "metadata": {},
   "outputs": [],
   "source": [
    "readout = bt.Readout()"
   ]
  },
  {
   "cell_type": "code",
   "execution_count": null,
   "id": "fe658848",
   "metadata": {},
   "outputs": [],
   "source": [
    "df = readout.df()\n",
    "df.head()"
   ]
  },
  {
   "cell_type": "code",
   "execution_count": null,
   "id": "4891f65b",
   "metadata": {},
   "outputs": [],
   "source": [
    "lookup = readout.lookup()"
   ]
  },
  {
   "attachments": {},
   "cell_type": "markdown",
   "id": "689b1622",
   "metadata": {},
   "source": [
    "Look up a molecular readout:"
   ]
  },
  {
   "cell_type": "code",
   "execution_count": null,
   "id": "6edacdf2",
   "metadata": {},
   "outputs": [],
   "source": [
    "lookup.single_cell_RNA_sequencing"
   ]
  },
  {
   "attachments": {},
   "cell_type": "markdown",
   "id": "9e501882",
   "metadata": {},
   "source": [
    "Lookup a phenotypic readout:"
   ]
  },
  {
   "cell_type": "code",
   "execution_count": null,
   "id": "449fc7d1",
   "metadata": {},
   "outputs": [],
   "source": [
    "lookup.tumor_size"
   ]
  }
 ],
 "metadata": {
  "kernelspec": {
   "display_name": "Python 3 (ipykernel)",
   "language": "python",
   "name": "python3"
  },
  "language_info": {
   "codemirror_mode": {
    "name": "ipython",
    "version": 3
   },
   "file_extension": ".py",
   "mimetype": "text/x-python",
   "name": "python",
   "nbconvert_exporter": "python",
   "pygments_lexer": "ipython3",
   "version": "3.10.10"
  },
  "vscode": {
   "interpreter": {
    "hash": "ae1fefc8646a06dd2e75004cd934adda7c5727b046986a772e3b44b0ffba9754"
   }
  }
 },
 "nbformat": 4,
 "nbformat_minor": 5
}
