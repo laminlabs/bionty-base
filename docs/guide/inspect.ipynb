{
 "cells": [
  {
   "attachments": {},
   "cell_type": "markdown",
   "metadata": {},
   "source": [
    "# Inspect & map identifiers"
   ]
  },
  {
   "attachments": {},
   "cell_type": "markdown",
   "metadata": {},
   "source": [
    "To make data queryable by an entity identifier, one needs to ensure that identifiers comply to a chosen standard.\n",
    "\n",
    "Bionty enables this by mapping metadata on the versioned ontologies using {meth}`~bionty.Bionty.inspect`.\n",
    "\n",
    "For terms that are not directly mappable, we offer:\n",
    "- {meth}`~bionty.Bionty.map_synonyms`.\n",
    "- {meth}`~bionty.Bionty.lookup`.\n",
    "- {meth}`~bionty.Bionty.fuzzy_match`."
   ]
  },
  {
   "cell_type": "code",
   "execution_count": null,
   "metadata": {
    "tags": []
   },
   "outputs": [],
   "source": [
    "from bionty import Gene, CellMarker, CellType\n",
    "import pandas as pd"
   ]
  },
  {
   "attachments": {},
   "cell_type": "markdown",
   "metadata": {},
   "source": [
    "## Inspect and mapping synonyms of gene identifiers"
   ]
  },
  {
   "attachments": {},
   "cell_type": "markdown",
   "metadata": {},
   "source": [
    "To illustrate it, let us generate a DataFrame that stores a number of gene identifiers, some of which corrupted."
   ]
  },
  {
   "cell_type": "code",
   "execution_count": null,
   "metadata": {
    "tags": []
   },
   "outputs": [],
   "source": [
    "data = {\n",
    "    \"gene symbol\": [\"A1CF\", \"A1BG\", \"FANCD1\", \"corrupted\"],\n",
    "    \"hgnc id\": [\"HGNC:24086\", \"HGNC:5\", \"HGNC:1101\", \"corrupted\"],\n",
    "    \"ensembl_gene_id\": [\n",
    "        \"ENSG00000148584\",\n",
    "        \"ENSG00000121410\",\n",
    "        \"ENSG00000188389\",\n",
    "        \"ENSGcorrupted\",\n",
    "    ],\n",
    "}\n",
    "df_orig = pd.DataFrame(data).set_index(\"ensembl_gene_id\")"
   ]
  },
  {
   "cell_type": "code",
   "execution_count": null,
   "metadata": {
    "tags": []
   },
   "outputs": [],
   "source": [
    "df_orig"
   ]
  },
  {
   "attachments": {},
   "cell_type": "markdown",
   "metadata": {},
   "source": [
    "First we can check whether any of our values are mappable against the ontology reference.\n",
    "\n",
    "Tip: available fields are accessible via auto-completion: `gene_bionty.`"
   ]
  },
  {
   "cell_type": "code",
   "execution_count": null,
   "metadata": {
    "tags": []
   },
   "outputs": [],
   "source": [
    "gene_bionty = Gene()"
   ]
  },
  {
   "cell_type": "code",
   "execution_count": null,
   "metadata": {
    "tags": []
   },
   "outputs": [],
   "source": [
    "gene_bionty.inspect(df_orig.index, gene_bionty.ensembl_gene_id)"
   ]
  },
  {
   "attachments": {},
   "cell_type": "markdown",
   "metadata": {},
   "source": [
    "The same procedure is available for gene symbols. First, we inspect which symbols are mappable against the ontology."
   ]
  },
  {
   "cell_type": "code",
   "execution_count": null,
   "metadata": {
    "tags": []
   },
   "outputs": [],
   "source": [
    "gene_bionty.inspect(df_orig[\"gene symbol\"], gene_bionty.symbol)"
   ]
  },
  {
   "attachments": {},
   "cell_type": "markdown",
   "metadata": {},
   "source": [
    "Apparently 2 of the gene symbols are mappable. Bionty further warns us that some of our symbols can be mapped into standardized symbols."
   ]
  },
  {
   "attachments": {},
   "cell_type": "markdown",
   "metadata": {},
   "source": [
    "Mapping synonyms returns a list of standardized terms:"
   ]
  },
  {
   "cell_type": "code",
   "execution_count": null,
   "metadata": {
    "tags": []
   },
   "outputs": [],
   "source": [
    "mapped_symbol_synonyms = gene_bionty.map_synonyms(\n",
    "    df_orig[\"gene symbol\"], gene_bionty.symbol\n",
    ")\n",
    "\n",
    "mapped_symbol_synonyms"
   ]
  },
  {
   "attachments": {},
   "cell_type": "markdown",
   "metadata": {},
   "source": [
    "Optionally, only returns a mapper of {synonym : standardized name}:"
   ]
  },
  {
   "cell_type": "code",
   "execution_count": null,
   "metadata": {},
   "outputs": [],
   "source": [
    "gene_bionty.map_synonyms(df_orig[\"gene symbol\"], gene_bionty.symbol, return_mapper=True)"
   ]
  },
  {
   "attachments": {},
   "cell_type": "markdown",
   "metadata": {},
   "source": [
    "We can use the standardized symbols as the new index:"
   ]
  },
  {
   "cell_type": "code",
   "execution_count": null,
   "metadata": {
    "tags": []
   },
   "outputs": [],
   "source": [
    "df_curated = df_orig.reset_index()\n",
    "df_curated.index = mapped_symbol_synonyms"
   ]
  },
  {
   "cell_type": "code",
   "execution_count": null,
   "metadata": {},
   "outputs": [],
   "source": [
    "df_curated"
   ]
  },
  {
   "attachments": {},
   "cell_type": "markdown",
   "metadata": {},
   "source": [
    "You may return a DataFrame with a boolean column indicating if the identifiers are mappable:"
   ]
  },
  {
   "cell_type": "code",
   "execution_count": null,
   "metadata": {},
   "outputs": [],
   "source": [
    "gene_bionty.inspect(df_curated.index, gene_bionty.symbol, return_df=True)"
   ]
  },
  {
   "attachments": {},
   "cell_type": "markdown",
   "metadata": {
    "pycharm": {
     "name": "#%% md\n"
    }
   },
   "source": [
    "## Standardize and look up unmapped CellMarker identifiers"
   ]
  },
  {
   "attachments": {},
   "cell_type": "markdown",
   "metadata": {},
   "source": [
    "Depending on how the data was collected and which terminology was used, it is not always possible to curate values.\n",
    "Some values might have used a different standard or be corrupted.\n",
    "\n",
    "This section will demonstrate how to look up unmatched terms and curate them using `CellMarker`.\n",
    "\n",
    "First, we take an example DataFrame whose index containing a valid & invalid cell markers (antibody targets) and an additional feature (time) from a flow cytometry dataset."
   ]
  },
  {
   "cell_type": "code",
   "execution_count": null,
   "metadata": {
    "pycharm": {
     "name": "#%%\n"
    },
    "tags": []
   },
   "outputs": [],
   "source": [
    "markers = pd.DataFrame(\n",
    "    index=[\n",
    "        \"KI67\",\n",
    "        \"CCR7x\",\n",
    "        \"CD14\",\n",
    "        \"CD8\",\n",
    "        \"CD45RA\",\n",
    "        \"CD4\",\n",
    "        \"CD3\",\n",
    "        \"CD127\",\n",
    "        \"PD1\",\n",
    "        \"Invalid-1\",\n",
    "        \"Invalid-2\",\n",
    "        \"CD66b\",\n",
    "        \"Siglec8\",\n",
    "        \"Time\",\n",
    "    ]\n",
    ")"
   ]
  },
  {
   "attachments": {},
   "cell_type": "markdown",
   "metadata": {},
   "source": [
    "Let's instantiate the CellMarker ontology with the default database and version."
   ]
  },
  {
   "cell_type": "code",
   "execution_count": null,
   "metadata": {
    "pycharm": {
     "name": "#%%\n"
    },
    "tags": []
   },
   "outputs": [],
   "source": [
    "cell_marker_bionty = CellMarker()\n",
    "\n",
    "cell_marker_bionty"
   ]
  },
  {
   "attachments": {},
   "cell_type": "markdown",
   "metadata": {},
   "source": [
    "First, we can have a look at the cell marker table that we just loaded."
   ]
  },
  {
   "cell_type": "code",
   "execution_count": null,
   "metadata": {
    "tags": []
   },
   "outputs": [],
   "source": [
    "df = cell_marker_bionty.df()"
   ]
  },
  {
   "cell_type": "code",
   "execution_count": null,
   "metadata": {
    "tags": []
   },
   "outputs": [],
   "source": [
    "df.head()"
   ]
  },
  {
   "attachments": {},
   "cell_type": "markdown",
   "metadata": {},
   "source": [
    "Now let’s check which cell markers from the file can be found in the reference:"
   ]
  },
  {
   "cell_type": "code",
   "execution_count": null,
   "metadata": {
    "pycharm": {
     "name": "#%%\n"
    },
    "tags": []
   },
   "outputs": [],
   "source": [
    "cell_marker_bionty.inspect(markers.index, cell_marker_bionty.name, return_df=True)"
   ]
  },
  {
   "attachments": {},
   "cell_type": "markdown",
   "metadata": {},
   "source": [
    "Logging suggests we map synonyms:"
   ]
  },
  {
   "cell_type": "code",
   "execution_count": null,
   "metadata": {},
   "outputs": [],
   "source": [
    "synonyms_mapper = cell_marker_bionty.map_synonyms(\n",
    "    markers.index, cell_marker_bionty.name, return_mapper=True\n",
    ")"
   ]
  },
  {
   "attachments": {},
   "cell_type": "markdown",
   "metadata": {},
   "source": [
    "Now we mapped 3 additional terms:"
   ]
  },
  {
   "cell_type": "code",
   "execution_count": null,
   "metadata": {},
   "outputs": [],
   "source": [
    "synonyms_mapper"
   ]
  },
  {
   "attachments": {},
   "cell_type": "markdown",
   "metadata": {},
   "source": [
    "Let's replace the synonyms with standardized names in the markers DataFrame:"
   ]
  },
  {
   "cell_type": "code",
   "execution_count": null,
   "metadata": {},
   "outputs": [],
   "source": [
    "markers.rename(index=synonyms_mapper, inplace=True)"
   ]
  },
  {
   "attachments": {},
   "cell_type": "markdown",
   "metadata": {},
   "source": [
    "From the logging, it can be seen that 4 terms were not found in the reference!\n",
    "\n",
    "Among them `Time`, `Invalid-1` and `Invalid-2` are non-marker channels which won’t be curated by cell marker."
   ]
  },
  {
   "cell_type": "code",
   "execution_count": null,
   "metadata": {},
   "outputs": [],
   "source": [
    "cell_marker_bionty.inspect(markers.index, cell_marker_bionty.name, return_df=True)"
   ]
  },
  {
   "attachments": {},
   "cell_type": "markdown",
   "metadata": {},
   "source": [
    "We don't really find `CCR7x`, let's check in the lookup with auto-completion:"
   ]
  },
  {
   "cell_type": "code",
   "execution_count": null,
   "metadata": {
    "tags": []
   },
   "outputs": [],
   "source": [
    "cell_marker_bionty_lookup = cell_marker_bionty.lookup()"
   ]
  },
  {
   "attachments": {},
   "cell_type": "markdown",
   "metadata": {},
   "source": [
    "```{figure} ./images/lookup_ccr7.png\n",
    "---\n",
    "width: 70%\n",
    "align: left\n",
    "class: with-shadow\n",
    "---\n",
    "```"
   ]
  },
  {
   "cell_type": "code",
   "execution_count": null,
   "metadata": {
    "tags": []
   },
   "outputs": [],
   "source": [
    "cell_marker_bionty_lookup.CCR7"
   ]
  },
  {
   "attachments": {},
   "cell_type": "markdown",
   "metadata": {},
   "source": [
    "Indeed we find it should be CCR7, we had a typo there with `CCR7x`.\n",
    "\n",
    "Now let’s fix the markers so all of them can be linked:"
   ]
  },
  {
   "attachments": {},
   "cell_type": "markdown",
   "metadata": {},
   "source": [
    "```{tip}\n",
    "Using the .lookup instead of passing a string helps eliminate possible typos!\n",
    "```"
   ]
  },
  {
   "cell_type": "code",
   "execution_count": null,
   "metadata": {
    "tags": []
   },
   "outputs": [],
   "source": [
    "curated_df = markers.rename(index={\"CCR7x\": cell_marker_bionty_lookup.CCR7.name})"
   ]
  },
  {
   "attachments": {},
   "cell_type": "markdown",
   "metadata": {},
   "source": [
    "OK, now we can try to run curate again and all cell markers are linked!"
   ]
  },
  {
   "cell_type": "code",
   "execution_count": null,
   "metadata": {
    "tags": []
   },
   "outputs": [],
   "source": [
    "cell_marker_bionty.inspect(curated_df.index, cell_marker_bionty.name)"
   ]
  },
  {
   "attachments": {},
   "cell_type": "markdown",
   "metadata": {},
   "source": [
    "## Map CellType names via fuzzy string matching"
   ]
  },
  {
   "cell_type": "code",
   "execution_count": null,
   "metadata": {},
   "outputs": [],
   "source": [
    "cell_type_bionty = CellType()"
   ]
  },
  {
   "cell_type": "code",
   "execution_count": null,
   "metadata": {},
   "outputs": [],
   "source": [
    "cell_type_bionty.fuzzy_match(\"T cells\", cell_type_bionty.name)"
   ]
  },
  {
   "attachments": {},
   "cell_type": "markdown",
   "metadata": {},
   "source": [
    "By default, fuzzy_match also matches against synonyms:"
   ]
  },
  {
   "cell_type": "code",
   "execution_count": null,
   "metadata": {},
   "outputs": [],
   "source": [
    "cell_type_bionty.fuzzy_match(\"P cell\", cell_type_bionty.name)"
   ]
  },
  {
   "attachments": {},
   "cell_type": "markdown",
   "metadata": {},
   "source": [
    "You can turn off synonym matching with `synonyms_field=None`:"
   ]
  },
  {
   "cell_type": "code",
   "execution_count": null,
   "metadata": {},
   "outputs": [],
   "source": [
    "cell_type_bionty.fuzzy_match(\"P cell\", cell_type_bionty.name, synonyms_field=None)"
   ]
  },
  {
   "attachments": {},
   "cell_type": "markdown",
   "metadata": {},
   "source": [
    "Return all results ranked by matching ratios:"
   ]
  },
  {
   "cell_type": "code",
   "execution_count": null,
   "metadata": {},
   "outputs": [],
   "source": [
    "cell_type_bionty.fuzzy_match(\n",
    "    \"P cell\", cell_type_bionty.name, return_ranked_results=True\n",
    ").head()"
   ]
  },
  {
   "attachments": {},
   "cell_type": "markdown",
   "metadata": {},
   "source": [
    "Tied results will all be returns:"
   ]
  },
  {
   "cell_type": "code",
   "execution_count": null,
   "metadata": {},
   "outputs": [],
   "source": [
    "cell_type_bionty.fuzzy_match(\"A cell\", cell_type_bionty.name, synonyms_field=None)"
   ]
  }
 ],
 "metadata": {
  "interpreter": {
   "hash": "ae1fefc8646a06dd2e75004cd934adda7c5727b046986a772e3b44b0ffba9754"
  },
  "kernelspec": {
   "display_name": "Python 3 (ipykernel)",
   "language": "python",
   "name": "python3"
  },
  "language_info": {
   "codemirror_mode": {
    "name": "ipython",
    "version": 3
   },
   "file_extension": ".py",
   "mimetype": "text/x-python",
   "name": "python",
   "nbconvert_exporter": "python",
   "pygments_lexer": "ipython3",
   "version": "3.9.16"
  },
  "vscode": {
   "interpreter": {
    "hash": "2775e555cdc2d728c54aa22130c79afb1fa4da64f22f2fc6dcc2aa346c4e0672"
   }
  }
 },
 "nbformat": 4,
 "nbformat_minor": 4
}
