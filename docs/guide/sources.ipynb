{
 "cells": [
  {
   "cell_type": "markdown",
   "metadata": {},
   "source": [
    "# Ontology sources configuration"
   ]
  },
  {
   "cell_type": "code",
   "execution_count": null,
   "metadata": {},
   "outputs": [],
   "source": [
    "import bionty as bt"
   ]
  },
  {
   "cell_type": "markdown",
   "metadata": {},
   "source": [
    "## Display sources\n",
    "\n",
    "The currently active and available ontologies can also be printed with:\n",
    "\n",
    "- {func}`bionty.display_currently_used_sources`.\n",
    "- {func}`bionty.display_available_sources`"
   ]
  },
  {
   "cell_type": "code",
   "execution_count": null,
   "metadata": {},
   "outputs": [],
   "source": [
    "bt.display_currently_used_sources()"
   ]
  },
  {
   "cell_type": "code",
   "execution_count": null,
   "metadata": {},
   "outputs": [],
   "source": [
    "bt.display_available_sources()"
   ]
  },
  {
   "cell_type": "markdown",
   "metadata": {},
   "source": [
    "## Initialize a Bionty model"
   ]
  },
  {
   "cell_type": "markdown",
   "metadata": {},
   "source": [
    "When initializing a Bionty class, default source is used:"
   ]
  },
  {
   "cell_type": "code",
   "execution_count": null,
   "metadata": {},
   "outputs": [],
   "source": [
    "celltype_bt = bt.CellType()\n",
    "\n",
    "celltype_bt"
   ]
  },
  {
   "cell_type": "markdown",
   "metadata": {},
   "source": [
    "You may specify a different source or version:"
   ]
  },
  {
   "cell_type": "code",
   "execution_count": null,
   "metadata": {},
   "outputs": [],
   "source": [
    "celltype_bt = bt.CellType(source=\"cl\", version=\"2022-08-16\")\n",
    "\n",
    "celltype_bt"
   ]
  },
  {
   "cell_type": "markdown",
   "metadata": {},
   "source": [
    "You may also specify a `species` for multi-species models:"
   ]
  },
  {
   "cell_type": "code",
   "execution_count": null,
   "metadata": {},
   "outputs": [],
   "source": [
    "gene_bt = bt.Gene()\n",
    "\n",
    "gene_bt"
   ]
  },
  {
   "cell_type": "code",
   "execution_count": null,
   "metadata": {},
   "outputs": [],
   "source": [
    "gene_bt = bt.Gene(species=\"mouse\")\n",
    "\n",
    "gene_bt"
   ]
  },
  {
   "cell_type": "markdown",
   "metadata": {},
   "source": [
    "## Public bionty sources\n",
    "\n",
    "Bionty maintains a [sources.yaml](https://raw.githubusercontent.com/laminlabs/bionty/main/bionty/sources/sources.yaml) listing public sources of each entity.\n",
    "\n",
    "These sources are curated ([biony-assets](https://lamin.ai/docs/bionty-assets)) and stored at s3://bionty-assets to provide fast and reliable access.\n",
    "\n",
    "Cached sources files are stored at your local `bionty/bionty/_dynamic/` directory."
   ]
  },
  {
   "cell_type": "markdown",
   "metadata": {},
   "source": [
    "## Local bionty sources\n",
    "\n",
    "File `$home:/.lamin/bionty/sources.local.yaml` stores all locally available ontologies.\n",
    "\n",
    "The content of this file is identical to the public `sources.yaml` for a freshly-installed Bionty.\n",
    "\n",
    "**Users may edit this file in order to configure customized sources.**"
   ]
  },
  {
   "cell_type": "markdown",
   "metadata": {},
   "source": [
    "## Format of the sources yaml file\n",
    "\n",
    "```yaml\n",
    "entity: # Bionty entity class name, e.g. CellType\n",
    "  source: # short name of the source, (CURIE prefix for ontologies) e.g. cl\n",
    "    species: # species common name, (if none applied, use 'all') e.g. human\n",
    "      version: # version of the source\n",
    "        url: \"link to the source file\"\n",
    "        md5: \"md5 of the source file\"\n",
    "```"
   ]
  },
  {
   "cell_type": "markdown",
   "metadata": {},
   "source": [
    "## Configure default ontologies and versions\n",
    "\n",
    "For each entity, the **first source** and its **maximum version** in `sources.local.yaml` is used as default.\n",
    "\n",
    "To set your own default ontology and version, shift the order of entries.\n",
    "\n",
    "For example, in the following \"doid\" used when \"species\" is specified as \"human\":\n",
    "\n",
    "(highlighted sources are considered the default)\n",
    "\n",
    "```{code-block} yaml\n",
    "---\n",
    "emphasize-lines: 2-6,12-16\n",
    "---\n",
    "Disease:\n",
    "  mondo:\n",
    "    all:\n",
    "      2023-02-06:\n",
    "        source: http://purl.obolibrary.org/obo/mondo/releases/2023-02-06/mondo.owl\n",
    "        md5: 2b7d479d4bd02a94eab47d1c9e64c5db\n",
    "      2022-10-11:\n",
    "        source: http://purl.obolibrary.org/obo/mondo/releases/2022-10-11/mondo.owl\n",
    "        md5: 04b808d05c2c2e81430b20a0e87552bb\n",
    "    name: Mondo Disease Ontology\n",
    "    website: https://mondo.monarchinitiative.org/\n",
    "  doid:\n",
    "    human:\n",
    "      2023-01-30:\n",
    "        source: http://purl.obolibrary.org/obo/doid/releases/2023-01-30/doid.obo\n",
    "        md5: 9f0c92ad2896dda82195e9226a06dc36\n",
    "    name: Human Disease Ontology\n",
    "    website: https://disease-ontology.org/\n",
    "  inhouse_diseases:\n",
    "    human:\n",
    "      2000-01-01:\n",
    "        source: http://download-my-diseases.com/releases/2000-01-01/mydiseases.owl\n",
    "        md5: md5 if available or leave out this row\n",
    "    name: My in-house Disease Ontology\n",
    "    website: http://my-website.com\n",
    "```"
   ]
  },
  {
   "cell_type": "markdown",
   "metadata": {},
   "source": [
    "<br>\n",
    "\n",
    "We may change the default to \"inhouse_diseases\" when \"species\" is specified as \"human\", by the following:\n",
    "\n",
    "Note: changing the order of versions won't have an effect, as most recent version is taken as default.\n",
    "\n",
    "```{code-block} yaml\n",
    "---\n",
    "emphasize-lines: 2,3,7-9,12-16\n",
    "---\n",
    "Disease:\n",
    "  mondo:\n",
    "    all:\n",
    "      2022-10-11:\n",
    "        source: http://purl.obolibrary.org/obo/mondo/releases/2022-10-11/mondo.owl\n",
    "        md5: 04b808d05c2c2e81430b20a0e87552bb\n",
    "      2023-02-06:\n",
    "        source: http://purl.obolibrary.org/obo/mondo/releases/2023-02-06/mondo.owl\n",
    "        md5: 2b7d479d4bd02a94eab47d1c9e64c5db\n",
    "    name: Mondo Disease Ontology\n",
    "    website: https://mondo.monarchinitiative.org/\n",
    "  inhouse_diseases:\n",
    "    human:\n",
    "      2000-01-01:\n",
    "        source: http://download-my-diseases.com/releases/2000-01-01/mydiseases.owl\n",
    "        md5: md5 if available or leave out this row\n",
    "    name: My in-house Disease Ontology\n",
    "    website: http://my-website.com\n",
    "  doid:\n",
    "    human:\n",
    "      2023-01-30:\n",
    "        source: http://purl.obolibrary.org/obo/doid/releases/2023-01-30/doid.obo\n",
    "        md5: 9f0c92ad2896dda82195e9226a06dc36\n",
    "    name: Human Disease Ontology\n",
    "    website: https://disease-ontology.org/\n",
    "```\n"
   ]
  }
 ],
 "metadata": {
  "citation-manager": {
   "items": {}
  },
  "kernelspec": {
   "display_name": "Python 3 (ipykernel)",
   "language": "python",
   "name": "python3"
  },
  "language_info": {
   "codemirror_mode": {
    "name": "ipython",
    "version": 3
   },
   "file_extension": ".py",
   "mimetype": "text/x-python",
   "name": "python",
   "nbconvert_exporter": "python",
   "pygments_lexer": "ipython3",
   "version": "3.9.16"
  }
 },
 "nbformat": 4,
 "nbformat_minor": 4
}
