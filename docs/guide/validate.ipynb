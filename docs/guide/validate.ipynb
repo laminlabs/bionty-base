{
 "cells": [
  {
   "cell_type": "markdown",
   "metadata": {},
   "source": [
    "# Validate, inspect & standardize identifiers"
   ]
  },
  {
   "cell_type": "markdown",
   "metadata": {},
   "source": [
    "To make data queryable by an entity identifier, one needs to ensure that identifiers comply to a chosen standard.\n",
    "\n",
    "Bionty enables this by mapping metadata on the versioned ontologies using {meth}`~bionty.Bionty.validate` and {meth}`~bionty.Bionty.inspect`.\n",
    "\n",
    "For terms that are not directly mappable, we offer (also see {doc}`./search`):\n",
    "- {meth}`~bionty.Bionty.standardize`\n",
    "- {meth}`~bionty.Bionty.lookup`\n",
    "- {meth}`~bionty.Bionty.search`"
   ]
  },
  {
   "cell_type": "code",
   "execution_count": null,
   "metadata": {
    "tags": []
   },
   "outputs": [],
   "source": [
    "import bionty as bt\n",
    "import pandas as pd"
   ]
  },
  {
   "cell_type": "markdown",
   "metadata": {},
   "source": [
    "## Inspect and mapping synonyms of gene identifiers"
   ]
  },
  {
   "cell_type": "markdown",
   "metadata": {},
   "source": [
    "To illustrate it, let us generate a DataFrame that stores a number of gene identifiers, some of which corrupted."
   ]
  },
  {
   "cell_type": "code",
   "execution_count": null,
   "metadata": {
    "tags": []
   },
   "outputs": [],
   "source": [
    "data = {\n",
    "    \"gene symbol\": [\"A1CF\", \"A1BG\", \"FANCD1\", \"corrupted\"],\n",
    "    \"ncbi id\": [\"29974\", \"1\", \"5133\", \"corrupted\"],\n",
    "    \"ensembl_gene_id\": [\n",
    "        \"ENSG00000148584\",\n",
    "        \"ENSG00000121410\",\n",
    "        \"ENSG00000188389\",\n",
    "        \"ENSGcorrupted\",\n",
    "    ],\n",
    "}\n",
    "df_orig = pd.DataFrame(data).set_index(\"ensembl_gene_id\")"
   ]
  },
  {
   "cell_type": "code",
   "execution_count": null,
   "metadata": {
    "tags": []
   },
   "outputs": [],
   "source": [
    "df_orig"
   ]
  },
  {
   "cell_type": "markdown",
   "metadata": {},
   "source": [
    "First we can check whether any of our values are validated against the ontology reference.\n",
    "\n",
    "Tip: available fields are accessible via `gene_bt.fields`"
   ]
  },
  {
   "cell_type": "code",
   "execution_count": null,
   "metadata": {
    "tags": []
   },
   "outputs": [],
   "source": [
    "gene_bt = bt.Gene()\n",
    "\n",
    "gene_bt"
   ]
  },
  {
   "cell_type": "code",
   "execution_count": null,
   "metadata": {},
   "outputs": [],
   "source": [
    "validated = gene_bt.validate(df_orig.index, gene_bt.ensembl_gene_id)\n",
    "validated"
   ]
  },
  {
   "cell_type": "code",
   "execution_count": null,
   "metadata": {},
   "outputs": [],
   "source": [
    "# show not validated terms\n",
    "df_orig.index[~validated]"
   ]
  },
  {
   "cell_type": "markdown",
   "metadata": {},
   "source": [
    "The same procedure is available for ncbi_gene_id or gene symbol. First, we validate which symbols are mappable against the ontology."
   ]
  },
  {
   "cell_type": "code",
   "execution_count": null,
   "metadata": {},
   "outputs": [],
   "source": [
    "gene_bt.validate(df_orig[\"ncbi id\"], gene_bt.ncbi_gene_id)"
   ]
  },
  {
   "cell_type": "code",
   "execution_count": null,
   "metadata": {
    "tags": []
   },
   "outputs": [],
   "source": [
    "validated_symbols = gene_bt.validate(df_orig[\"gene symbol\"], gene_bt.symbol)"
   ]
  },
  {
   "cell_type": "code",
   "execution_count": null,
   "metadata": {},
   "outputs": [],
   "source": [
    "df_orig[\"gene symbol\"][~validated_symbols]"
   ]
  },
  {
   "cell_type": "markdown",
   "metadata": {},
   "source": [
    "Here, 2 of the gene symbols are not validated. What shall we do? Let's run a full inspection of these symbols:"
   ]
  },
  {
   "cell_type": "code",
   "execution_count": null,
   "metadata": {},
   "outputs": [],
   "source": [
    "gene_bt.inspect(df_orig[\"gene symbol\"], gene_bt.symbol);"
   ]
  },
  {
   "cell_type": "markdown",
   "metadata": {},
   "source": [
    "Inspect detects synonyms and suggests to use .standardize():"
   ]
  },
  {
   "cell_type": "code",
   "execution_count": null,
   "metadata": {
    "tags": []
   },
   "outputs": [],
   "source": [
    "# mpping synonyms returns a list of standardized terms:\n",
    "mapped_symbol_synonyms = gene_bt.standardize(df_orig[\"gene symbol\"])\n",
    "\n",
    "mapped_symbol_synonyms"
   ]
  },
  {
   "cell_type": "markdown",
   "metadata": {},
   "source": [
    "Optionally, only returns a mapper of {synonym : standardized name}:"
   ]
  },
  {
   "cell_type": "code",
   "execution_count": null,
   "metadata": {},
   "outputs": [],
   "source": [
    "gene_bt.standardize(df_orig[\"gene symbol\"], return_mapper=True)"
   ]
  },
  {
   "cell_type": "markdown",
   "metadata": {},
   "source": [
    "We can use the standardized symbols as the new standardized index:"
   ]
  },
  {
   "cell_type": "code",
   "execution_count": null,
   "metadata": {
    "tags": []
   },
   "outputs": [],
   "source": [
    "df_curated = df_orig.reset_index()\n",
    "df_curated.index = mapped_symbol_synonyms"
   ]
  },
  {
   "cell_type": "code",
   "execution_count": null,
   "metadata": {},
   "outputs": [],
   "source": [
    "df_curated"
   ]
  },
  {
   "cell_type": "markdown",
   "metadata": {
    "pycharm": {
     "name": "#%% md\n"
    }
   },
   "source": [
    "## Standardize and look up unmapped CellMarker identifiers"
   ]
  },
  {
   "cell_type": "markdown",
   "metadata": {},
   "source": [
    "Depending on how the data was collected and which terminology was used, it is not always possible to curate values.\n",
    "Some values might have used a different standard or be corrupted.\n",
    "\n",
    "This section will demonstrate how to look up unmatched terms and curate them using `CellMarker`.\n",
    "\n",
    "First, we take an example DataFrame whose index containing a valid & invalid cell markers (antibody targets) and an additional feature (time) from a flow cytometry dataset."
   ]
  },
  {
   "cell_type": "code",
   "execution_count": null,
   "metadata": {
    "pycharm": {
     "name": "#%%\n"
    },
    "tags": []
   },
   "outputs": [],
   "source": [
    "markers = pd.DataFrame(\n",
    "    index=[\n",
    "        \"KI67\",\n",
    "        \"CCR7\",\n",
    "        \"CD14\",\n",
    "        \"CD8\",\n",
    "        \"CD45RA\",\n",
    "        \"CD4\",\n",
    "        \"CD3\",\n",
    "        \"CD127a\",\n",
    "        \"PD1\",\n",
    "        \"Invalid-1\",\n",
    "        \"Invalid-2\",\n",
    "        \"CD66b\",\n",
    "        \"Siglec8\",\n",
    "        \"Time\",\n",
    "    ]\n",
    ")"
   ]
  },
  {
   "cell_type": "markdown",
   "metadata": {},
   "source": [
    "Let's instantiate the CellMarker ontology with the default database and version."
   ]
  },
  {
   "cell_type": "code",
   "execution_count": null,
   "metadata": {
    "pycharm": {
     "name": "#%%\n"
    },
    "tags": []
   },
   "outputs": [],
   "source": [
    "cellmarker_bt = bt.CellMarker()\n",
    "\n",
    "cellmarker_bt"
   ]
  },
  {
   "cell_type": "markdown",
   "metadata": {},
   "source": [
    "Now let’s check which cell markers from the file can be found in the reference:"
   ]
  },
  {
   "cell_type": "code",
   "execution_count": null,
   "metadata": {
    "pycharm": {
     "name": "#%%\n"
    },
    "tags": []
   },
   "outputs": [],
   "source": [
    "cellmarker_bt.inspect(markers.index, cellmarker_bt.name);"
   ]
  },
  {
   "cell_type": "markdown",
   "metadata": {},
   "source": [
    "Logging suggests we map synonyms:"
   ]
  },
  {
   "cell_type": "code",
   "execution_count": null,
   "metadata": {},
   "outputs": [],
   "source": [
    "synonyms_mapper = cellmarker_bt.standardize(markers.index, return_mapper=True)"
   ]
  },
  {
   "cell_type": "markdown",
   "metadata": {},
   "source": [
    "Now we mapped 4 additional terms:"
   ]
  },
  {
   "cell_type": "code",
   "execution_count": null,
   "metadata": {},
   "outputs": [],
   "source": [
    "synonyms_mapper"
   ]
  },
  {
   "cell_type": "markdown",
   "metadata": {},
   "source": [
    "Let's replace the synonyms with standardized names in the markers DataFrame:"
   ]
  },
  {
   "cell_type": "code",
   "execution_count": null,
   "metadata": {},
   "outputs": [],
   "source": [
    "markers.rename(index=synonyms_mapper, inplace=True)"
   ]
  },
  {
   "cell_type": "markdown",
   "metadata": {},
   "source": [
    "From the logging, it can be seen that 4 terms were not found in the reference!\n",
    "\n",
    "Among them `Time`, `Invalid-1` and `Invalid-2` are non-marker channels which won’t be curated by cell marker."
   ]
  },
  {
   "cell_type": "code",
   "execution_count": null,
   "metadata": {},
   "outputs": [],
   "source": [
    "cellmarker_bt.inspect(markers.index, cellmarker_bt.name);"
   ]
  },
  {
   "cell_type": "markdown",
   "metadata": {},
   "source": [
    "We don't really find `CD127a`, let's check in the lookup with auto-completion:"
   ]
  },
  {
   "cell_type": "code",
   "execution_count": null,
   "metadata": {
    "tags": []
   },
   "outputs": [],
   "source": [
    "lookup = cellmarker_bt.lookup()"
   ]
  },
  {
   "cell_type": "code",
   "execution_count": null,
   "metadata": {
    "tags": []
   },
   "outputs": [],
   "source": [
    "lookup.cd127"
   ]
  },
  {
   "cell_type": "markdown",
   "metadata": {},
   "source": [
    "Indeed we find it should be cd127, we had a typo there with `cd127a`.\n",
    "\n",
    "Now let’s fix the markers so all of them can be linked:"
   ]
  },
  {
   "cell_type": "markdown",
   "metadata": {},
   "source": [
    "```{tip}\n",
    "Using the .lookup instead of passing a string helps eliminate possible typos!\n",
    "```"
   ]
  },
  {
   "cell_type": "code",
   "execution_count": null,
   "metadata": {
    "tags": []
   },
   "outputs": [],
   "source": [
    "curated_df = markers.rename(index={\"CD127a\": lookup.cd127.name})"
   ]
  },
  {
   "cell_type": "markdown",
   "metadata": {},
   "source": [
    "Optionally, run a fuzzy match:"
   ]
  },
  {
   "cell_type": "code",
   "execution_count": null,
   "metadata": {},
   "outputs": [],
   "source": [
    "cellmarker_bt.search(\"CD127a\").head()"
   ]
  },
  {
   "cell_type": "markdown",
   "metadata": {},
   "source": [
    "OK, now we can try to run curate again and all cell markers are linked!"
   ]
  },
  {
   "cell_type": "code",
   "execution_count": null,
   "metadata": {
    "tags": []
   },
   "outputs": [],
   "source": [
    "cellmarker_bt.inspect(curated_df.index, cellmarker_bt.name);"
   ]
  }
 ],
 "metadata": {
  "citation-manager": {
   "items": {}
  },
  "interpreter": {
   "hash": "ae1fefc8646a06dd2e75004cd934adda7c5727b046986a772e3b44b0ffba9754"
  },
  "kernelspec": {
   "display_name": "Python 3 (ipykernel)",
   "language": "python",
   "name": "python3"
  },
  "language_info": {
   "codemirror_mode": {
    "name": "ipython",
    "version": 3
   },
   "file_extension": ".py",
   "mimetype": "text/x-python",
   "name": "python",
   "nbconvert_exporter": "python",
   "pygments_lexer": "ipython3",
   "version": "3.9.16"
  },
  "vscode": {
   "interpreter": {
    "hash": "2775e555cdc2d728c54aa22130c79afb1fa4da64f22f2fc6dcc2aa346c4e0672"
   }
  }
 },
 "nbformat": 4,
 "nbformat_minor": 4
}
