{
 "cells": [
  {
   "cell_type": "markdown",
   "metadata": {
    "jupyter": {
     "outputs_hidden": true
    }
   },
   "source": [
    "# Extending Bionty"
   ]
  },
  {
   "cell_type": "markdown",
   "metadata": {},
   "source": [
    "Bionty is designed to be extendable in various ways. This guide covers how to:\n",
    "\n",
    "1. Extend existing ontologies such as adding a new cell type to a cell type ontology\n",
    "2. Adding new ontologies such as a new disease ontology\n",
    "3. Implementing new entities that Bionty does not cover"
   ]
  },
  {
   "cell_type": "markdown",
   "metadata": {
    "tags": []
   },
   "source": [
    "## New terms"
   ]
  },
  {
   "cell_type": "markdown",
   "metadata": {},
   "source": [
    "If new terms need to be added to an existing ontology we recommend using the complete Lamin platform including [lamindb](https://lamin.ai/docs/db/). A work in progress tutorial can be found [here](https://lamin.ai/docs/lnschema-bionty/guide/tables).\n",
    "\n",
    "For use-cases where Bionty is run standalone, we kindly ask users to be patience since support for this use-case is currently work in progress."
   ]
  },
  {
   "cell_type": "markdown",
   "metadata": {},
   "source": [
    "## New ontologies"
   ]
  },
  {
   "cell_type": "markdown",
   "metadata": {},
   "source": [
    "The easiest way to add new ontologies or versions to existing entities is to adapt the `local.yml` file in the `$home/.lamin/bionty/versions` directory.\n",
    "\n",
    "For example, to add a new disease ontology (termed \"mydiseases\") with an associated version and URL, one adds the following lines to the `local.yml`.\n",
    "\n",
    "```yaml\n",
    "Disease:\n",
    "  doid:\n",
    "    versions:\n",
    "      2023-01-30: http://purl.obolibrary.org/obo/doid/releases/2023-01-30/doid.obo\n",
    "  mondo:\n",
    "    versions:\n",
    "      2022-10-11: http://purl.obolibrary.org/obo/mondo/releases/2022-10-11/mondo.owl\n",
    "      2023-02-06: http://purl.obolibrary.org/obo/mondo/releases/2023-02-06/mondo.owl\n",
    "  mydiseases:\n",
    "    versions:\n",
    "      2000-01-01: http://download-my-diseases.com/releases/2000-01-01/mydiseases.owl\n",
    "```"
   ]
  },
  {
   "cell_type": "markdown",
   "metadata": {},
   "source": [
    "If desired, the new ontology can be set as default. See [configuration](configuration.md) for more details."
   ]
  },
  {
   "cell_type": "markdown",
   "metadata": {},
   "source": [
    "## New entites"
   ]
  },
  {
   "cell_type": "markdown",
   "metadata": {},
   "source": [
    "Adding new entities to Bionty requires subclassing the {class}`bionty.Entity` and modifying the `local.yml` file."
   ]
  },
  {
   "cell_type": "markdown",
   "metadata": {},
   "source": [
    "The {class}`bionty.Entity` requires several properties to be defined:\n",
    "\n",
    "```python\n",
    "id: str,\n",
    "species: str,\n",
    "database: str,\n",
    "version: str,\n",
    "filenames: Dict[str, str]\n",
    "```\n",
    "\n",
    "These are automatically populated by either the `._current.yaml` (see [configuration](configuration.md) or explicitly passed as parameters when initializing an Entity.\n",
    "\n",
    "Hence, a new Entity MyEntity would be defined as:\n",
    "\n",
    "```python\n",
    "from bionty import Entity\n",
    "\n",
    "class MyEntity(Entity):\n",
    "    \"\"\"MyEntity.\"\"\"\n",
    "\n",
    "    def __init__(\n",
    "        self,\n",
    "        species: str = \"human\",\n",
    "        id: str = \"ontology_id\",\n",
    "        database: str | None = None,\n",
    "        version: str | None = None,\n",
    "    ) -> None:\n",
    "        super().__init__(\n",
    "            id=id,\n",
    "            database=database,\n",
    "            version=version,\n",
    "            species=species,\n",
    "        )\n",
    "```\n",
    "\n",
    "The `local.yml` would then need to be extended as:\n",
    "\n",
    "\n",
    "```yaml\n",
    "MyEntity:\n",
    "  mydatabase_1:\n",
    "    versions:\n",
    "      2042-01-01: http://my-url/releases/2042-01-01/mydatabase_1.owl\n",
    "  mydatabase_2:\n",
    "    versions:\n",
    "      2042-01-01: http://my-url/releases/2042-01-01/mydatabase_2.owl\n",
    "```"
   ]
  },
  {
   "cell_type": "markdown",
   "metadata": {},
   "source": [
    "If the ontology file is not a standard `*.owl` file, the generation of the Pandas DataFrame might require custom code. In this case the function:\n",
    "\n",
    "```python\n",
    "    @cached_property\n",
    "    def df(self) -> pd.DataFrame:\n",
    "        \"\"\"Pandas DataFrame.\"\"\"\n",
    "        self._filepath = settings.datasetdir / self.filenames.get(\n",
    "            f\"{self.species}_{self.database}\"\n",
    "        )\n",
    "\n",
    "        if not self._filepath.exists():\n",
    "            df = self._ontology_to_df(self.ontology)\n",
    "            df.to_parquet(self._filepath)\n",
    "\n",
    "        return pd.read_parquet(self._filepath).reset_index().set_index(self._id)\n",
    "```\n",
    "\n",
    "should be overwritten in the Entity class:\n",
    "\n",
    "```python\n",
    "    @cached_property\n",
    "    def df(self) -> pd.DataFrame:\n",
    "        \"\"\"Pandas DataFrame.\"\"\"\n",
    "        # TODO: Implement me\n",
    "        pass\n",
    "        return pd.DataFrame()\n",
    "```"
   ]
  },
  {
   "cell_type": "markdown",
   "metadata": {},
   "source": [
    "Finally, the new Entity can be used with all Bionty functions."
   ]
  }
 ],
 "metadata": {
  "kernelspec": {
   "display_name": "Python 3 (ipykernel)",
   "language": "python",
   "name": "python3"
  },
  "language_info": {
   "codemirror_mode": {
    "name": "ipython",
    "version": 3
   },
   "file_extension": ".py",
   "mimetype": "text/x-python",
   "name": "python",
   "nbconvert_exporter": "python",
   "pygments_lexer": "ipython3",
   "version": "3.10.9"
  }
 },
 "nbformat": 4,
 "nbformat_minor": 4
}
