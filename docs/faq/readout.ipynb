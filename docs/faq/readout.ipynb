{
 "cells": [
  {
   "cell_type": "markdown",
   "id": "7f26a335-cf1c-4e69-be3b-0c26b154606a",
   "metadata": {},
   "source": [
    "# Readout"
   ]
  },
  {
   "cell_type": "markdown",
   "id": "05fd43e3",
   "metadata": {},
   "source": [
    "{class}`~bionty.Readout` parses [Experimental Factor Ontology](https://www.ebi.ac.uk/efo/) to the following categories for describing biological experiments:\n",
    "- efo_id\n",
    "- name\n",
    "- molecule\n",
    "- instrument\n",
    "- measurement\n",
    "\n",
    "The columns are reflected in the `readout` table in [lnschema-wetlab](https://lamin.ai/docs/lnschema-wetlab/lnschema_wetlab.readout)."
   ]
  },
  {
   "cell_type": "code",
   "execution_count": null,
   "id": "a51faaf3-ee27-43c6-b48d-13be1adb5c46",
   "metadata": {},
   "outputs": [],
   "source": [
    "import bionty as bt"
   ]
  },
  {
   "cell_type": "code",
   "execution_count": null,
   "id": "ad22eec0-8f75-4e0b-a132-8a43ccb09b37",
   "metadata": {},
   "outputs": [],
   "source": [
    "readout = bt.Readout()"
   ]
  },
  {
   "cell_type": "code",
   "execution_count": null,
   "id": "73353d8b",
   "metadata": {},
   "outputs": [],
   "source": [
    "readout.df.head()"
   ]
  },
  {
   "cell_type": "markdown",
   "id": "ed190f2b",
   "metadata": {},
   "source": [
    "Access the EFO ontology via `.ontology`: see [pronto Ontology](https://pronto.readthedocs.io/en/stable/api/pronto.Ontology.html) for details."
   ]
  },
  {
   "cell_type": "code",
   "execution_count": null,
   "id": "88ffb5a7",
   "metadata": {},
   "outputs": [],
   "source": [
    "readout.ontology"
   ]
  },
  {
   "cell_type": "markdown",
   "id": "c2026c1a",
   "metadata": {},
   "source": [
    "Search for a molecular readout:"
   ]
  },
  {
   "cell_type": "code",
   "execution_count": null,
   "id": "209685fa",
   "metadata": {},
   "outputs": [],
   "source": [
    "readout.ontology.get_term(\"EFO:0010891\")"
   ]
  },
  {
   "cell_type": "code",
   "execution_count": null,
   "id": "2b6e6386",
   "metadata": {},
   "outputs": [],
   "source": [
    "readout.get(\"EFO:0010891\")"
   ]
  },
  {
   "cell_type": "markdown",
   "id": "b85b0991",
   "metadata": {},
   "source": [
    "Searching for a non-molecular readout:"
   ]
  },
  {
   "cell_type": "code",
   "execution_count": null,
   "id": "a28288ac",
   "metadata": {},
   "outputs": [],
   "source": [
    "readout.get(\"EFO:0004134\")"
   ]
  },
  {
   "cell_type": "code",
   "execution_count": null,
   "id": "01385e72",
   "metadata": {},
   "outputs": [],
   "source": []
  }
 ],
 "metadata": {
  "kernelspec": {
   "display_name": "Python 3.9.13 ('py39')",
   "language": "python",
   "name": "python3"
  },
  "language_info": {
   "codemirror_mode": {
    "name": "ipython",
    "version": 3
   },
   "file_extension": ".py",
   "mimetype": "text/x-python",
   "name": "python",
   "nbconvert_exporter": "python",
   "pygments_lexer": "ipython3",
   "version": "3.9.13"
  },
  "vscode": {
   "interpreter": {
    "hash": "ae1fefc8646a06dd2e75004cd934adda7c5727b046986a772e3b44b0ffba9754"
   }
  }
 },
 "nbformat": 4,
 "nbformat_minor": 5
}
